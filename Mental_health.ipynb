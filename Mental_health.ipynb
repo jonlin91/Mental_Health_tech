{
 "cells": [
  {
   "cell_type": "markdown",
   "metadata": {},
   "source": [
    "# Summative: mental health perception differences between men and women working in the tech industry"
   ]
  },
  {
   "cell_type": "code",
   "execution_count": 1,
   "metadata": {},
   "outputs": [],
   "source": [
    "import pandas as pd\n",
    "import matplotlib.pyplot as plt\n",
    "import numpy as np\n",
    "import statsmodels.api as sm\n",
    "import statsmodels.formula.api as smf\n",
    "from scipy import stats\n",
    "import seaborn as sns"
   ]
  },
  {
   "cell_type": "code",
   "execution_count": 2,
   "metadata": {},
   "outputs": [
    {
     "data": {
      "text/html": [
       "<div>\n",
       "<style scoped>\n",
       "    .dataframe tbody tr th:only-of-type {\n",
       "        vertical-align: middle;\n",
       "    }\n",
       "\n",
       "    .dataframe tbody tr th {\n",
       "        vertical-align: top;\n",
       "    }\n",
       "\n",
       "    .dataframe thead th {\n",
       "        text-align: right;\n",
       "    }\n",
       "</style>\n",
       "<table border=\"1\" class=\"dataframe\">\n",
       "  <thead>\n",
       "    <tr style=\"text-align: right;\">\n",
       "      <th></th>\n",
       "      <th>&lt;strong&gt;Are you self-employed?&lt;/strong&gt;</th>\n",
       "      <th>How many employees does your company or organization have?</th>\n",
       "      <th>Is your employer primarily a tech company/organization?</th>\n",
       "      <th>Is your primary role within your company related to tech/IT?</th>\n",
       "      <th>Does your employer provide mental health benefits as part of healthcare coverage?</th>\n",
       "      <th>Do you know the options for mental health care available under your employer-provided health coverage?</th>\n",
       "      <th>Has your employer ever formally discussed mental health (for example, as part of a wellness campaign or other official communication)?</th>\n",
       "      <th>Does your employer offer resources to learn more about mental health disorders and options for seeking help?</th>\n",
       "      <th>Is your anonymity protected if you choose to take advantage of mental health or substance abuse treatment resources provided by your employer?</th>\n",
       "      <th>If a mental health issue prompted you to request a medical leave from work, how easy or difficult would it be to ask for that leave?</th>\n",
       "      <th>...</th>\n",
       "      <th>What is your gender?</th>\n",
       "      <th>What country do you &lt;strong&gt;live&lt;/strong&gt; in?</th>\n",
       "      <th>What US state or territory do you &lt;strong&gt;live&lt;/strong&gt; in?</th>\n",
       "      <th>What is your race?</th>\n",
       "      <th>Other.3</th>\n",
       "      <th>What country do you &lt;strong&gt;work&lt;/strong&gt; in?</th>\n",
       "      <th>What US state or territory do you &lt;strong&gt;work&lt;/strong&gt; in?</th>\n",
       "      <th>Start Date (UTC)</th>\n",
       "      <th>Submit Date (UTC)</th>\n",
       "      <th>Network ID</th>\n",
       "    </tr>\n",
       "    <tr>\n",
       "      <th>#</th>\n",
       "      <th></th>\n",
       "      <th></th>\n",
       "      <th></th>\n",
       "      <th></th>\n",
       "      <th></th>\n",
       "      <th></th>\n",
       "      <th></th>\n",
       "      <th></th>\n",
       "      <th></th>\n",
       "      <th></th>\n",
       "      <th></th>\n",
       "      <th></th>\n",
       "      <th></th>\n",
       "      <th></th>\n",
       "      <th></th>\n",
       "      <th></th>\n",
       "      <th></th>\n",
       "      <th></th>\n",
       "      <th></th>\n",
       "      <th></th>\n",
       "      <th></th>\n",
       "    </tr>\n",
       "  </thead>\n",
       "  <tbody>\n",
       "    <tr>\n",
       "      <th>e49fe87572831232dcfa51b376b22039</th>\n",
       "      <td>0</td>\n",
       "      <td>100-500</td>\n",
       "      <td>1.0</td>\n",
       "      <td>1.0</td>\n",
       "      <td>No</td>\n",
       "      <td>Yes</td>\n",
       "      <td>No</td>\n",
       "      <td>I don't know</td>\n",
       "      <td>I don't know</td>\n",
       "      <td>I don't know</td>\n",
       "      <td>...</td>\n",
       "      <td>Female</td>\n",
       "      <td>United Kingdom</td>\n",
       "      <td>NaN</td>\n",
       "      <td>NaN</td>\n",
       "      <td>NaN</td>\n",
       "      <td>United Kingdom</td>\n",
       "      <td>NaN</td>\n",
       "      <td>2018-05-16 12:32:04</td>\n",
       "      <td>2018-05-16 12:42:40</td>\n",
       "      <td>464b7a12f1</td>\n",
       "    </tr>\n",
       "    <tr>\n",
       "      <th>a1eede444ac024928d247a8372d54931</th>\n",
       "      <td>0</td>\n",
       "      <td>100-500</td>\n",
       "      <td>1.0</td>\n",
       "      <td>1.0</td>\n",
       "      <td>Yes</td>\n",
       "      <td>Yes</td>\n",
       "      <td>No</td>\n",
       "      <td>No</td>\n",
       "      <td>I don't know</td>\n",
       "      <td>I don't know</td>\n",
       "      <td>...</td>\n",
       "      <td>male</td>\n",
       "      <td>United Kingdom</td>\n",
       "      <td>NaN</td>\n",
       "      <td>NaN</td>\n",
       "      <td>NaN</td>\n",
       "      <td>United Kingdom</td>\n",
       "      <td>NaN</td>\n",
       "      <td>2018-05-16 12:31:13</td>\n",
       "      <td>2018-05-16 12:40:40</td>\n",
       "      <td>464b7a12f1</td>\n",
       "    </tr>\n",
       "    <tr>\n",
       "      <th>37d3fd67f62bd1e0a2dea4f9cd440d98</th>\n",
       "      <td>0</td>\n",
       "      <td>6-25</td>\n",
       "      <td>1.0</td>\n",
       "      <td>1.0</td>\n",
       "      <td>I don't know</td>\n",
       "      <td>No</td>\n",
       "      <td>I don't know</td>\n",
       "      <td>No</td>\n",
       "      <td>Yes</td>\n",
       "      <td>Difficult</td>\n",
       "      <td>...</td>\n",
       "      <td>male</td>\n",
       "      <td>United States of America</td>\n",
       "      <td>Missouri</td>\n",
       "      <td>White</td>\n",
       "      <td>NaN</td>\n",
       "      <td>United States of America</td>\n",
       "      <td>Missouri</td>\n",
       "      <td>2018-05-09 05:34:05</td>\n",
       "      <td>2018-05-09 05:46:04</td>\n",
       "      <td>1eb7e0cb94</td>\n",
       "    </tr>\n",
       "  </tbody>\n",
       "</table>\n",
       "<p>3 rows × 122 columns</p>\n",
       "</div>"
      ],
      "text/plain": [
       "                                  <strong>Are you self-employed?</strong>  \\\n",
       "#                                                                           \n",
       "e49fe87572831232dcfa51b376b22039                                        0   \n",
       "a1eede444ac024928d247a8372d54931                                        0   \n",
       "37d3fd67f62bd1e0a2dea4f9cd440d98                                        0   \n",
       "\n",
       "                                 How many employees does your company or organization have?  \\\n",
       "#                                                                                             \n",
       "e49fe87572831232dcfa51b376b22039                                            100-500           \n",
       "a1eede444ac024928d247a8372d54931                                            100-500           \n",
       "37d3fd67f62bd1e0a2dea4f9cd440d98                                               6-25           \n",
       "\n",
       "                                  Is your employer primarily a tech company/organization?  \\\n",
       "#                                                                                           \n",
       "e49fe87572831232dcfa51b376b22039                                                1.0         \n",
       "a1eede444ac024928d247a8372d54931                                                1.0         \n",
       "37d3fd67f62bd1e0a2dea4f9cd440d98                                                1.0         \n",
       "\n",
       "                                  Is your primary role within your company related to tech/IT?  \\\n",
       "#                                                                                                \n",
       "e49fe87572831232dcfa51b376b22039                                                1.0              \n",
       "a1eede444ac024928d247a8372d54931                                                1.0              \n",
       "37d3fd67f62bd1e0a2dea4f9cd440d98                                                1.0              \n",
       "\n",
       "                                 Does your employer provide mental health benefits as part of healthcare coverage?  \\\n",
       "#                                                                                                                    \n",
       "e49fe87572831232dcfa51b376b22039                                                 No                                  \n",
       "a1eede444ac024928d247a8372d54931                                                Yes                                  \n",
       "37d3fd67f62bd1e0a2dea4f9cd440d98                                       I don't know                                  \n",
       "\n",
       "                                 Do you know the options for mental health care available under your employer-provided health coverage?  \\\n",
       "#                                                                                                                                         \n",
       "e49fe87572831232dcfa51b376b22039                                                Yes                                                       \n",
       "a1eede444ac024928d247a8372d54931                                                Yes                                                       \n",
       "37d3fd67f62bd1e0a2dea4f9cd440d98                                                 No                                                       \n",
       "\n",
       "                                 Has your employer ever formally discussed mental health (for example, as part of a wellness campaign or other official communication)?  \\\n",
       "#                                                                                                                                                                         \n",
       "e49fe87572831232dcfa51b376b22039                                                 No                                                                                       \n",
       "a1eede444ac024928d247a8372d54931                                                 No                                                                                       \n",
       "37d3fd67f62bd1e0a2dea4f9cd440d98                                       I don't know                                                                                       \n",
       "\n",
       "                                 Does your employer offer resources to learn more about mental health disorders and options for seeking help?  \\\n",
       "#                                                                                                                                               \n",
       "e49fe87572831232dcfa51b376b22039                                       I don't know                                                             \n",
       "a1eede444ac024928d247a8372d54931                                                 No                                                             \n",
       "37d3fd67f62bd1e0a2dea4f9cd440d98                                                 No                                                             \n",
       "\n",
       "                                 Is your anonymity protected if you choose to take advantage of mental health or substance abuse treatment resources provided by your employer?  \\\n",
       "#                                                                                                                                                                                 \n",
       "e49fe87572831232dcfa51b376b22039                                       I don't know                                                                                               \n",
       "a1eede444ac024928d247a8372d54931                                       I don't know                                                                                               \n",
       "37d3fd67f62bd1e0a2dea4f9cd440d98                                                Yes                                                                                               \n",
       "\n",
       "                                 If a mental health issue prompted you to request a medical leave from work, how easy or difficult would it be to ask for that leave?  \\\n",
       "#                                                                                                                                                                       \n",
       "e49fe87572831232dcfa51b376b22039                                       I don't know                                                                                     \n",
       "a1eede444ac024928d247a8372d54931                                       I don't know                                                                                     \n",
       "37d3fd67f62bd1e0a2dea4f9cd440d98                                          Difficult                                                                                     \n",
       "\n",
       "                                     ...     What is your gender?  \\\n",
       "#                                    ...                            \n",
       "e49fe87572831232dcfa51b376b22039     ...                   Female   \n",
       "a1eede444ac024928d247a8372d54931     ...                     male   \n",
       "37d3fd67f62bd1e0a2dea4f9cd440d98     ...                     male   \n",
       "\n",
       "                                 What country do you <strong>live</strong> in?  \\\n",
       "#                                                                                \n",
       "e49fe87572831232dcfa51b376b22039                                United Kingdom   \n",
       "a1eede444ac024928d247a8372d54931                                United Kingdom   \n",
       "37d3fd67f62bd1e0a2dea4f9cd440d98                      United States of America   \n",
       "\n",
       "                                  What US state or territory do you <strong>live</strong> in?  \\\n",
       "#                                                                                               \n",
       "e49fe87572831232dcfa51b376b22039                                                NaN             \n",
       "a1eede444ac024928d247a8372d54931                                                NaN             \n",
       "37d3fd67f62bd1e0a2dea4f9cd440d98                                           Missouri             \n",
       "\n",
       "                                 What is your race? Other.3  \\\n",
       "#                                                             \n",
       "e49fe87572831232dcfa51b376b22039                NaN     NaN   \n",
       "a1eede444ac024928d247a8372d54931                NaN     NaN   \n",
       "37d3fd67f62bd1e0a2dea4f9cd440d98              White     NaN   \n",
       "\n",
       "                                  What country do you <strong>work</strong> in?  \\\n",
       "#                                                                                 \n",
       "e49fe87572831232dcfa51b376b22039                                 United Kingdom   \n",
       "a1eede444ac024928d247a8372d54931                                 United Kingdom   \n",
       "37d3fd67f62bd1e0a2dea4f9cd440d98                       United States of America   \n",
       "\n",
       "                                 What US state or territory do you <strong>work</strong> in?  \\\n",
       "#                                                                                              \n",
       "e49fe87572831232dcfa51b376b22039                                                NaN            \n",
       "a1eede444ac024928d247a8372d54931                                                NaN            \n",
       "37d3fd67f62bd1e0a2dea4f9cd440d98                                           Missouri            \n",
       "\n",
       "                                     Start Date (UTC)    Submit Date (UTC)  \\\n",
       "#                                                                            \n",
       "e49fe87572831232dcfa51b376b22039  2018-05-16 12:32:04  2018-05-16 12:42:40   \n",
       "a1eede444ac024928d247a8372d54931  2018-05-16 12:31:13  2018-05-16 12:40:40   \n",
       "37d3fd67f62bd1e0a2dea4f9cd440d98  2018-05-09 05:34:05  2018-05-09 05:46:04   \n",
       "\n",
       "                                  Network ID  \n",
       "#                                             \n",
       "e49fe87572831232dcfa51b376b22039  464b7a12f1  \n",
       "a1eede444ac024928d247a8372d54931  464b7a12f1  \n",
       "37d3fd67f62bd1e0a2dea4f9cd440d98  1eb7e0cb94  \n",
       "\n",
       "[3 rows x 122 columns]"
      ]
     },
     "metadata": {},
     "output_type": "display_data"
    }
   ],
   "source": [
    "osmi_17 = pd.read_csv('OSMI Mental Health in Tech Survey 2017.csv')\n",
    "osmi_17 = osmi_17.set_index('#')\n",
    "display(osmi_17.head(3))"
   ]
  },
  {
   "cell_type": "markdown",
   "metadata": {},
   "source": [
    "## Print column names and indices"
   ]
  },
  {
   "cell_type": "code",
   "execution_count": 3,
   "metadata": {},
   "outputs": [
    {
     "name": "stdout",
     "output_type": "stream",
     "text": [
      "0 <strong>Are you self-employed?</strong>\n",
      "1 How many employees does your company or organization have?\n",
      "2 Is your employer primarily a tech company/organization?\n",
      "3 Is your primary role within your company related to tech/IT?\n",
      "4 Does your employer provide mental health benefits as part of healthcare coverage?\n",
      "5 Do you know the options for mental health care available under your employer-provided health coverage?\n",
      "6 Has your employer ever formally discussed mental health (for example, as part of a wellness campaign or other official communication)?\n",
      "7 Does your employer offer resources to learn more about mental health disorders and options for seeking help?\n",
      "8 Is your anonymity protected if you choose to take advantage of mental health or substance abuse treatment resources provided by your employer?\n",
      "9 If a mental health issue prompted you to request a medical leave from work, how easy or difficult would it be to ask for that leave?\n",
      "10 Would you feel more comfortable talking to your coworkers about your physical health or your mental health?\n",
      "11 Would you feel comfortable discussing a mental health issue with your direct supervisor(s)?\n",
      "12 Have you ever discussed your mental health with your employer?\n",
      "13 Describe the conversation you had with your employer about your mental health, including their reactions and what actions were taken to address your mental health issue/questions.\n",
      "14 Would you feel comfortable discussing a mental health issue with your coworkers?\n",
      "15 Have you ever discussed your mental health with coworkers?\n",
      "16 Describe the conversation with coworkers you had about your mental health including their reactions.\n",
      "17 Have you ever had a coworker discuss their or another coworker's mental health with you?\n",
      "18 Describe the conversation your coworker had with you about their mental health (please do not use names).\n",
      "19 Overall, how much importance does your employer place on physical health?\n",
      "20 Overall, how much importance does your employer place on mental health?\n",
      "21 Do you have medical coverage (private insurance or state-provided) that includes treatment of mental health disorders?\n",
      "22 Do you know local or online resources to seek help for a mental health issue?\n",
      "23 <strong>If you have been diagnosed or treated for a mental health disorder, do you ever reveal this to clients or business contacts?</strong>\n",
      "24 If you have revealed a mental health disorder to a client or business contact, how has this affected you or the relationship?\n",
      "25 <strong>If you have been diagnosed or treated for a mental health disorder, do you ever reveal this to coworkers or employees?</strong>\n",
      "26 If you have revealed a mental health disorder to a coworker or employee, how has this impacted you or the relationship?\n",
      "27 Do you believe your productivity is ever affected by a mental health issue?\n",
      "28 If yes, what percentage of your work time (time performing primary or secondary job functions) is affected by a mental health issue?\n",
      "29 <strong>Do you have previous employers?</strong>\n",
      "30 Was your employer primarily a tech company/organization?\n",
      "31 <strong>Have your previous employers provided mental health benefits?</strong>\n",
      "32 <strong>Were you aware of the options for mental health care provided by your previous employers?</strong>\n",
      "33 Did your previous employers ever formally discuss mental health (as part of a wellness campaign or other official communication)?\n",
      "34 Did your previous employers provide resources to learn more about mental health disorders and how to seek help?\n",
      "35 Was your anonymity protected if you chose to take advantage of mental health or substance abuse treatment resources with previous employers?\n",
      "36 Would you have felt more comfortable talking to your previous employer about your physical health or your mental health?\n",
      "37 Would you have been willing to discuss your mental health with your direct supervisor(s)?\n",
      "38 Did you ever discuss your mental health with your previous employer?\n",
      "39 Describe the conversation you had with your previous employer about your mental health, including their reactions and actions taken to address your mental health issue/questions.\n",
      "40 <strong>Would you have been willing to discuss your mental health with your coworkers at previous employers?</strong>\n",
      "41 Did you ever discuss your mental health with a previous coworker(s)?\n",
      "42 Describe the conversation you had with your previous coworkers about your mental health including their reactions.\n",
      "43 Did you ever have a previous coworker discuss their or another coworker's mental health with you?\n",
      "44 Describe the conversation your coworker had with you about their mental health (please do not use names)..1\n",
      "45 Overall, how much importance did your previous employer place on physical health?\n",
      "46 Overall, how much importance did your previous employer place on mental health?\n",
      "47 Do you currently have a mental health disorder?\n",
      "48 Have you ever been diagnosed with a mental health disorder?\n",
      "49 Anxiety Disorder (Generalized, Social, Phobia, etc)\n",
      "50 Mood Disorder (Depression, Bipolar Disorder, etc)\n",
      "51 Psychotic Disorder (Schizophrenia, Schizoaffective, etc)\n",
      "52 Eating Disorder (Anorexia, Bulimia, etc)\n",
      "53 Attention Deficit Hyperactivity Disorder\n",
      "54 Personality Disorder (Borderline, Antisocial, Paranoid, etc)\n",
      "55 Obsessive-Compulsive Disorder\n",
      "56 Post-Traumatic Stress Disorder\n",
      "57 Stress Response Syndromes\n",
      "58 Dissociative Disorder\n",
      "59 Substance Use Disorder\n",
      "60 Addictive Disorder\n",
      "61 Other\n",
      "62 Anxiety Disorder (Generalized, Social, Phobia, etc).1\n",
      "63 Mood Disorder (Depression, Bipolar Disorder, etc).1\n",
      "64 Psychotic Disorder (Schizophrenia, Schizoaffective, etc).1\n",
      "65 Eating Disorder (Anorexia, Bulimia, etc).1\n",
      "66 Attention Deficit Hyperactivity Disorder.1\n",
      "67 Personality Disorder (Borderline, Antisocial, Paranoid, etc).1\n",
      "68 Obsessive-Compulsive Disorder.1\n",
      "69 Post-traumatic Stress Disorder\n",
      "70 Stress Response Syndromes.1\n",
      "71 Dissociative Disorder.1\n",
      "72 Substance Use Disorder.1\n",
      "73 Addictive Disorder.1\n",
      "74 Other.1\n",
      "75 Anxiety Disorder (Generalized, Social, Phobia, etc).2\n",
      "76 Mood Disorder (Depression, Bipolar Disorder, etc).2\n",
      "77 Psychotic Disorder (Schizophrenia, Schizoaffective, etc).2\n",
      "78 Eating Disorder (Anorexia, Bulimia, etc).2\n",
      "79 Attention Deficit Hyperactivity Disorder.2\n",
      "80 Personality Disorder (Borderline, Antisocial, Paranoid, etc).2\n",
      "81 Obsessive-Compulsive Disorder.2\n",
      "82 Post-traumatic Stress Disorder.1\n",
      "83 Stress Response Syndromes.2\n",
      "84 Dissociative Disorder.2\n",
      "85 Substance Use Disorder.2\n",
      "86 Addictive Disorder.2\n",
      "87 Other.2\n",
      "88 Have you had a mental health disorder in the past?\n",
      "89 Have you ever sought treatment for a mental health disorder from a mental health professional?\n",
      "90 Do you have a family history of mental illness?\n",
      "91 If you have a mental health disorder, how often do you feel that it interferes with your work <strong>when being treated effectively?</strong>\n",
      "92 If you have a mental health disorder, how often do you feel that it interferes with your work <strong>when <em>NOT</em> being treated effectively (i.e., when you are experiencing symptoms)?</strong>\n",
      "93 Have your observations of how another individual who discussed a mental health issue made you less likely to reveal a mental health issue yourself in your current workplace?\n",
      "94 How willing would you be to share with friends and family that you have a mental illness?\n",
      "95 Would you be willing to bring up a physical health issue with a potential employer in an interview?\n",
      "96 Why or why not?\n",
      "97 Would you bring up your mental health with a potential employer in an interview?\n",
      "98 Why or why not?.1\n",
      "99 Are you openly identified at work as a person with a mental health issue?\n",
      "100 Has being identified as a person with a mental health issue affected your career?\n",
      "101 How has it affected your career?\n",
      "102 If they knew you suffered from a mental health disorder, how do you think that team members/co-workers would react?\n",
      "103 <strong>Have you observed or experienced an unsupportive or badly handled response to a mental health issue in your current or previous workplace?</strong>\n",
      "104 Describe the circumstances of the badly handled or unsupportive response.\n",
      "105 <strong>Have you observed or experienced supportive or well handled response to a mental health issue in your current or previous workplace?</strong>\n",
      "106 Describe the circumstances of the supportive or well handled response.\n",
      "107 Overall, how well do you think the tech industry supports employees with mental health issues?\n",
      "108 Briefly describe what you think the industry as a whole and/or employers could do to improve mental health support for employees.\n",
      "109 If there is anything else you would like to tell us that has not been covered by the survey questions, please use this space to do so.\n",
      "110 Would you be willing to talk to one of us more extensively about your experiences with mental health issues in the tech industry? (Note that all interview responses would be used <em>anonymously</em> and only with your permission.)\n",
      "111 What is your age?\n",
      "112 What is your gender?\n",
      "113 What country do you <strong>live</strong> in?\n",
      "114 What US state or territory do you <strong>live</strong> in?\n",
      "115 What is your race?\n",
      "116 Other.3\n",
      "117 What country do you <strong>work</strong> in?\n",
      "118 What US state or territory do you <strong>work</strong> in?\n",
      "119 Start Date (UTC)\n",
      "120 Submit Date (UTC)\n",
      "121 Network ID\n"
     ]
    }
   ],
   "source": [
    "for c, col in enumerate(osmi_17.columns):\n",
    "    print(c, col)"
   ]
  },
  {
   "cell_type": "markdown",
   "metadata": {},
   "source": [
    "## Data processing and cleansing"
   ]
  },
  {
   "cell_type": "code",
   "execution_count": 4,
   "metadata": {},
   "outputs": [
    {
     "name": "stdout",
     "output_type": "stream",
     "text": [
      "0 '<strong>Are you self-employed?</strong>' has unique 2 values: \n",
      " [0 1]\n",
      "1 'How many employees does your company or organization have?' has unique 7 values: \n",
      " ['100-500' '6-25' 'More than 1000' nan '26-100' '1-5' '500-1000']\n",
      "2 'Is your employer primarily a tech company/organization?' has unique 3 values: \n",
      " [ 1. nan  0.]\n",
      "3 'Is your primary role within your company related to tech/IT?' has unique 3 values: \n",
      " [ 1. nan  0.]\n",
      "4 'Does your employer provide mental health benefits as part of healthcare coverage?' has unique 5 values: \n",
      " ['No' 'Yes' \"I don't know\" nan 'Not eligible for coverage / NA']\n",
      "5 'Do you know the options for mental health care available under your employer-provided health coverage?' has unique 3 values: \n",
      " ['Yes' 'No' nan]\n",
      "6 'Has your employer ever formally discussed mental health (for example, as part of a wellness campaign or other official communication)?' has unique 4 values: \n",
      " ['No' \"I don't know\" nan 'Yes']\n",
      "7 'Does your employer offer resources to learn more about mental health disorders and options for seeking help?' has unique 4 values: \n",
      " [\"I don't know\" 'No' nan 'Yes']\n",
      "8 'Is your anonymity protected if you choose to take advantage of mental health or substance abuse treatment resources provided by your employer?' has unique 4 values: \n",
      " [\"I don't know\" 'Yes' nan 'No']\n",
      "9 'If a mental health issue prompted you to request a medical leave from work, how easy or difficult would it be to ask for that leave?' has unique 7 values: \n",
      " [\"I don't know\" 'Difficult' nan 'Somewhat easy' 'Very easy'\n",
      " 'Neither easy nor difficult' 'Somewhat difficult']\n",
      "10 'Would you feel more comfortable talking to your coworkers about your physical health or your mental health?' has unique 4 values: \n",
      " ['Same level of comfort for each' nan 'Physical health' 'Mental health']\n",
      "11 'Would you feel comfortable discussing a mental health issue with your direct supervisor(s)?' has unique 4 values: \n",
      " ['Yes' 'Maybe' nan 'No']\n",
      "12 'Have you ever discussed your mental health with your employer?' has unique 3 values: \n",
      " [ 0.  1. nan]\n",
      "14 'Would you feel comfortable discussing a mental health issue with your coworkers?' has unique 4 values: \n",
      " ['Yes' 'Maybe' nan 'No']\n",
      "15 'Have you ever discussed your mental health with coworkers?' has unique 3 values: \n",
      " [ 1. nan  0.]\n",
      "17 'Have you ever had a coworker discuss their or another coworker's mental health with you?' has unique 3 values: \n",
      " [ 1.  0. nan]\n",
      "19 'Overall, how much importance does your employer place on physical health?' has unique 12 values: \n",
      " [ 6.  7.  0. nan  9. 10.  1.  5.  3.  8.  4.  2.]\n",
      "20 'Overall, how much importance does your employer place on mental health?' has unique 12 values: \n",
      " [ 0.  2.  1.  5. nan 10.  8.  7.  3.  9.  6.  4.]\n",
      "21 'Do you have medical coverage (private insurance or state-provided) that includes treatment of mental health disorders?' has unique 3 values: \n",
      " [nan  0.  1.]\n",
      "22 'Do you know local or online resources to seek help for a mental health issue?' has unique 4 values: \n",
      " [nan 'Yes, I know several' \"No, I don't know any\" 'I know some']\n",
      "23 '<strong>If you have been diagnosed or treated for a mental health disorder, do you ever reveal this to clients or business contacts?</strong>' has unique 6 values: \n",
      " [nan 'Sometimes, if it comes up' 'Not applicable to me'\n",
      " 'No, because it would impact me negatively'\n",
      " \"No, because it doesn't matter\" 'Yes, always']\n",
      "24 'If you have revealed a mental health disorder to a client or business contact, how has this affected you or the relationship?' has unique 5 values: \n",
      " [nan 'No change' \"I'm not sure\" 'Negatively' 'Positively']\n",
      "25 '<strong>If you have been diagnosed or treated for a mental health disorder, do you ever reveal this to coworkers or employees?</strong>' has unique 6 values: \n",
      " [nan \"No, because it doesn't matter\" 'Sometimes, if it comes up'\n",
      " 'Not applicable to me' 'No, because it would impact me negatively'\n",
      " 'Yes, always']\n",
      "26 'If you have revealed a mental health disorder to a coworker or employee, how has this impacted you or the relationship?' has unique 6 values: \n",
      " [nan 'No change' 'Not applicable to me' \"I'm not sure\" 'Negatively'\n",
      " 'Positively']\n",
      "27 'Do you believe your productivity is ever affected by a mental health issue?' has unique 5 values: \n",
      " [nan 'Yes' 'Unsure' 'No' 'Not applicable to me']\n",
      "28 'If yes, what percentage of your work time (time performing primary or secondary job functions) is affected by a mental health issue?' has unique 5 values: \n",
      " [nan '1-25%' '26-50%' '51-75%' '76-100%']\n",
      "29 '<strong>Do you have previous employers?</strong>' has unique 2 values: \n",
      " [1 0]\n",
      "30 'Was your employer primarily a tech company/organization?' has unique 3 values: \n",
      " [ 0.  1. nan]\n",
      "31 '<strong>Have your previous employers provided mental health benefits?</strong>' has unique 5 values: \n",
      " [\"I don't know\" 'Some did' nan 'No, none did' 'Yes, they all did']\n",
      "32 '<strong>Were you aware of the options for mental health care provided by your previous employers?</strong>' has unique 6 values: \n",
      " ['N/A (was not aware)' 'I was aware of some' nan 'N/A (none offered)'\n",
      " 'Yes, I was aware of all of them' 'No, I only became aware later']\n",
      "33 'Did your previous employers ever formally discuss mental health (as part of a wellness campaign or other official communication)?' has unique 5 values: \n",
      " ['Some did' 'None did' nan \"I don't know\" 'Yes, they all did']\n",
      "34 'Did your previous employers provide resources to learn more about mental health disorders and how to seek help?' has unique 4 values: \n",
      " ['Some did' 'None did' nan 'Yes, they all did']\n",
      "35 'Was your anonymity protected if you chose to take advantage of mental health or substance abuse treatment resources with previous employers?' has unique 5 values: \n",
      " ['Yes, always' \"I don't know\" nan 'Sometimes' 'No']\n",
      "36 'Would you have felt more comfortable talking to your previous employer about your physical health or your mental health?' has unique 4 values: \n",
      " ['Physical health' nan 'Same level of comfort for each' 'Mental health']\n",
      "37 'Would you have been willing to discuss your mental health with your direct supervisor(s)?' has unique 5 values: \n",
      " ['Yes, all of my previous supervisors'\n",
      " 'No, none of my previous supervisors' nan\n",
      " 'Some of my previous supervisors' \"I don't know\"]\n",
      "38 'Did you ever discuss your mental health with your previous employer?' has unique 3 values: \n",
      " [ 0. nan  1.]\n",
      "40 '<strong>Would you have been willing to discuss your mental health with your coworkers at previous employers?</strong>' has unique 5 values: \n",
      " ['No, at none of my previous employers' 'At some of my previous employers'\n",
      " nan 'Yes, at all of my previous employers'\n",
      " 'Some of my previous employers']\n",
      "41 'Did you ever discuss your mental health with a previous coworker(s)?' has unique 3 values: \n",
      " [ 0.  1. nan]\n",
      "43 'Did you ever have a previous coworker discuss their or another coworker's mental health with you?' has unique 3 values: \n",
      " [ 0. nan  1.]\n",
      "45 'Overall, how much importance did your previous employer place on physical health?' has unique 12 values: \n",
      " [ 3.  5.  8. nan  7. 10.  9.  2.  4.  1.  6.  0.]\n",
      "46 'Overall, how much importance did your previous employer place on mental health?' has unique 12 values: \n",
      " [ 3.  2.  0. nan  8. 10.  5.  6.  1.  4.  7.  9.]\n",
      "47 'Do you currently have a mental health disorder?' has unique 4 values: \n",
      " ['Possibly' 'Yes' 'No' \"Don't Know\"]\n",
      "48 'Have you ever been diagnosed with a mental health disorder?' has unique 3 values: \n",
      " [nan 'Yes' 'No']\n",
      "49 'Anxiety Disorder (Generalized, Social, Phobia, etc)' has unique 1 values: \n",
      " [nan]\n",
      "50 'Mood Disorder (Depression, Bipolar Disorder, etc)' has unique 1 values: \n",
      " [nan]\n",
      "51 'Psychotic Disorder (Schizophrenia, Schizoaffective, etc)' has unique 1 values: \n",
      " [nan]\n",
      "52 'Eating Disorder (Anorexia, Bulimia, etc)' has unique 1 values: \n",
      " [nan]\n",
      "53 'Attention Deficit Hyperactivity Disorder' has unique 1 values: \n",
      " [nan]\n",
      "54 'Personality Disorder (Borderline, Antisocial, Paranoid, etc)' has unique 1 values: \n",
      " [nan]\n",
      "55 'Obsessive-Compulsive Disorder' has unique 1 values: \n",
      " [nan]\n",
      "56 'Post-Traumatic Stress Disorder' has unique 1 values: \n",
      " [nan]\n",
      "57 'Stress Response Syndromes' has unique 1 values: \n",
      " [nan]\n",
      "58 'Dissociative Disorder' has unique 1 values: \n",
      " [nan]\n",
      "59 'Substance Use Disorder' has unique 1 values: \n",
      " [nan]\n",
      "60 'Addictive Disorder' has unique 1 values: \n",
      " [nan]\n",
      "61 'Other' has unique 1 values: \n",
      " [nan]\n",
      "62 'Anxiety Disorder (Generalized, Social, Phobia, etc).1' has unique 2 values: \n",
      " ['Anxiety Disorder (Generalized, Social, Phobia, etc)' nan]\n",
      "63 'Mood Disorder (Depression, Bipolar Disorder, etc).1' has unique 2 values: \n",
      " [nan 'Mood Disorder (Depression, Bipolar Disorder, etc)']\n",
      "64 'Psychotic Disorder (Schizophrenia, Schizoaffective, etc).1' has unique 1 values: \n",
      " [nan]\n",
      "65 'Eating Disorder (Anorexia, Bulimia, etc).1' has unique 2 values: \n",
      " [nan 'Eating Disorder (Anorexia, Bulimia, etc)']\n",
      "66 'Attention Deficit Hyperactivity Disorder.1' has unique 2 values: \n",
      " [nan 'Attention Deficit Hyperactivity Disorder']\n",
      "67 'Personality Disorder (Borderline, Antisocial, Paranoid, etc).1' has unique 2 values: \n",
      " [nan 'Personality Disorder (Borderline, Antisocial, Paranoid, etc)']\n",
      "68 'Obsessive-Compulsive Disorder.1' has unique 2 values: \n",
      " [nan 'Obsessive-Compulsive Disorder']\n",
      "69 'Post-traumatic Stress Disorder' has unique 2 values: \n",
      " [nan 'Post-traumatic Stress Disorder']\n",
      "70 'Stress Response Syndromes.1' has unique 2 values: \n",
      " [nan 'Stress Response Syndromes']\n",
      "71 'Dissociative Disorder.1' has unique 2 values: \n",
      " [nan 'Dissociative Disorder']\n",
      "72 'Substance Use Disorder.1' has unique 2 values: \n",
      " [nan 'Substance Use Disorder']\n",
      "73 'Addictive Disorder.1' has unique 2 values: \n",
      " [nan 'Addictive Disorder']\n",
      "74 'Other.1' has unique 4 values: \n",
      " [nan 'Asperger' 'Autism' 'Suicidal']\n",
      "75 'Anxiety Disorder (Generalized, Social, Phobia, etc).2' has unique 2 values: \n",
      " [nan 'Anxiety Disorder (Generalized, Social, Phobia, etc)']\n",
      "76 'Mood Disorder (Depression, Bipolar Disorder, etc).2' has unique 2 values: \n",
      " [nan 'Mood Disorder (Depression, Bipolar Disorder, etc)']\n",
      "77 'Psychotic Disorder (Schizophrenia, Schizoaffective, etc).2' has unique 2 values: \n",
      " [nan 'Psychotic Disorder (Schizophrenia, Schizoaffective, etc)']\n",
      "78 'Eating Disorder (Anorexia, Bulimia, etc).2' has unique 2 values: \n",
      " [nan 'Eating Disorder (Anorexia, Bulimia, etc)']\n",
      "79 'Attention Deficit Hyperactivity Disorder.2' has unique 2 values: \n",
      " [nan 'Attention Deficit Hyperactivity Disorder']\n",
      "80 'Personality Disorder (Borderline, Antisocial, Paranoid, etc).2' has unique 2 values: \n",
      " [nan 'Personality Disorder (Borderline, Antisocial, Paranoid, etc)']\n",
      "81 'Obsessive-Compulsive Disorder.2' has unique 2 values: \n",
      " [nan 'Obsessive-Compulsive Disorder']\n",
      "82 'Post-traumatic Stress Disorder.1' has unique 2 values: \n",
      " [nan 'Post-traumatic Stress Disorder']\n",
      "83 'Stress Response Syndromes.2' has unique 2 values: \n",
      " [nan 'Stress Response Syndromes']\n",
      "84 'Dissociative Disorder.2' has unique 2 values: \n",
      " [nan 'Dissociative Disorder']\n",
      "85 'Substance Use Disorder.2' has unique 2 values: \n",
      " [nan 'Substance Use Disorder']\n",
      "86 'Addictive Disorder.2' has unique 2 values: \n",
      " [nan 'Addictive Disorder']\n",
      "87 'Other.2' has unique 10 values: \n",
      " [nan 'Panic Disorder' \"Tourette's\" 'Autism Spectrum Disorder'\n",
      " 'Depression, Anxiety, Developmental Trauma' 'Depression' 'Panic disorder'\n",
      " 'Autism' 'Gender Dysphoria' 'Depression ']\n",
      "88 'Have you had a mental health disorder in the past?' has unique 5 values: \n",
      " ['Possibly' 'Yes' 'No' nan \"Don't Know\"]\n",
      "89 'Have you ever sought treatment for a mental health disorder from a mental health professional?' has unique 2 values: \n",
      " [1 0]\n",
      "90 'Do you have a family history of mental illness?' has unique 3 values: \n",
      " ['No' 'Yes' \"I don't know\"]\n",
      "91 'If you have a mental health disorder, how often do you feel that it interferes with your work <strong>when being treated effectively?</strong>' has unique 5 values: \n",
      " ['Sometimes' 'Not applicable to me' 'Often' 'Rarely' 'Never']\n",
      "92 'If you have a mental health disorder, how often do you feel that it interferes with your work <strong>when <em>NOT</em> being treated effectively (i.e., when you are experiencing symptoms)?</strong>' has unique 5 values: \n",
      " ['Sometimes' 'Often' 'Not applicable to me' 'Rarely' 'Never']\n",
      "93 'Have your observations of how another individual who discussed a mental health issue made you less likely to reveal a mental health issue yourself in your current workplace?' has unique 4 values: \n",
      " ['No' 'Yes' 'Maybe' nan]\n",
      "94 'How willing would you be to share with friends and family that you have a mental illness?' has unique 11 values: \n",
      " [ 5  4 10  8  3  6  2  9  7  1  0]\n",
      "95 'Would you be willing to bring up a physical health issue with a potential employer in an interview?' has unique 3 values: \n",
      " ['Yes' 'Maybe' 'No']\n",
      "97 'Would you bring up your mental health with a potential employer in an interview?' has unique 3 values: \n",
      " ['No' 'Yes' 'Maybe']\n",
      "99 'Are you openly identified at work as a person with a mental health issue?' has unique 3 values: \n",
      " [ 0.  1. nan]\n",
      "100 'Has being identified as a person with a mental health issue affected your career?' has unique 3 values: \n",
      " [nan  1.  0.]\n",
      "101 'How has it affected your career?' has unique 11 values: \n",
      " [nan  3.  2.  6.  0.  4. 10.  7.  5.  1.  8.]\n",
      "102 'If they knew you suffered from a mental health disorder, how do you think that team members/co-workers would react?' has unique 12 values: \n",
      " [10.  6.  5.  4.  7.  2.  0.  8.  3.  9.  1. nan]\n",
      "103 '<strong>Have you observed or experienced an unsupportive or badly handled response to a mental health issue in your current or previous workplace?</strong>' has unique 6 values: \n",
      " ['Yes, I experienced' 'Yes, I observed' 'Maybe/Not sure' 'No'\n",
      " \"I've always been self-employed\" nan]\n",
      "105 '<strong>Have you observed or experienced supportive or well handled response to a mental health issue in your current or previous workplace?</strong>' has unique 6 values: \n",
      " ['Yes, I experienced' 'Maybe/Not sure' 'Yes, I observed' 'No'\n",
      " \"I've always been self-employed\" nan]\n",
      "107 'Overall, how well do you think the tech industry supports employees with mental health issues?' has unique 6 values: \n",
      " [ 1.  2.  3.  4.  5. nan]\n",
      "110 'Would you be willing to talk to one of us more extensively about your experiences with mental health issues in the tech industry? (Note that all interview responses would be used <em>anonymously</em> and only with your permission.)' has unique 3 values: \n",
      " [ 0.  1. nan]\n",
      "111 'What is your age?' has unique 48 values: \n",
      " [27. 31. 36. 22. 52. 30. 38. 35. 40. 23. 34. 28. 53. 21. 18. 37. 25. 33.\n",
      " 66. 32. 46. 29. 39. 42. 43. 47. 64. 45. 54. 61. 26. 44. 50. 24. 57. 48.\n",
      " 41. 20. 49. 62. 51. 60. 58. 59. 67. 56. 55. nan]\n",
      "112 'What is your gender?' has unique 55 values: \n",
      " ['Female' 'male' 'Male' 'female' 'F' 'M' 'Man' nan 'f' 'Genderfluid'\n",
      " 'Nonbinary' 'Female ' 'cis-male' 'Mail' 'Woman' 'male/androgynous '\n",
      " 'cis hetero male' 'm' 'femalw' 'femail' 'Male (cis)'\n",
      " 'uhhhhhhhhh fem genderqueer?'\n",
      " \"male (hey this is the tech industry you're talking about)\"\n",
      " 'female (cis)' 'God King of the Valajar' 'Cis male' 'man'\n",
      " 'My sex is female.' 'Cis-male' 'Male ' 'Non-binary' 'Male, cis'\n",
      " 'cis male ' 'Agender/genderfluid' 'Male-ish' 'woman' 'sometimes'\n",
      " 'female (cisgender)' 'Female (cis) ' 'Woman-identified' 'Contextual'\n",
      " 'Non binary' 'Genderqueer demigirl' 'Genderqueer/non-binary' 'cis-Female'\n",
      " 'cis female' 'nonbinary' 'F, cisgender' 'Female-ish' '\\\\-' 'trans woman'\n",
      " 'Transfeminine' 'None' 'Cis Male' 'dude']\n",
      "113 'What country do you <strong>live</strong> in?' has unique 45 values: \n",
      " ['United Kingdom' 'United States of America' 'Switzerland' 'India'\n",
      " 'Russia' 'Bangladesh' 'Germany' 'Canada' 'Israel' 'Iceland' 'Japan'\n",
      " 'Indonesia' 'Portugal' 'Czech Republic' 'Romania' 'Finland' 'Pakistan'\n",
      " 'Belgium' 'Australia' 'South Africa' 'Sweden' 'Serbia' 'Spain' 'Jordan'\n",
      " 'Hungary' 'Croatia' 'Bulgaria' 'New Zealand' 'Italy' 'Argentina' 'Greece'\n",
      " 'Brazil' 'France' 'Ireland' 'Mexico' 'Netherlands' 'Ukraine' 'Poland'\n",
      " 'Singapore' 'Slovakia' 'Austria' 'Belarus' 'Turkey' 'Latvia' nan]\n",
      "114 'What US state or territory do you <strong>live</strong> in?' has unique 43 values: \n",
      " [nan 'Missouri' 'Washington' 'Illinois' 'California' 'Georgia'\n",
      " 'Pennsylvania' 'Tennessee' 'Louisiana' 'Ohio' 'Oregon' 'New York'\n",
      " 'Minnesota' 'Kansas' 'Colorado' 'Virginia' 'Wisconsin' 'Maryland'\n",
      " 'Montana' 'Utah' 'Texas' 'New Mexico' 'North Carolina' 'Arizona'\n",
      " 'District of Columbia' 'Massachusetts' 'Idaho' 'New Jersey' 'Alabama'\n",
      " 'Alaska' 'Michigan' 'Indiana' 'Nebraska' 'North Dakota' 'Iowa'\n",
      " 'South Dakota' 'South Carolina' 'Kentucky' 'Nevada' 'Florida'\n",
      " 'New Hampshire' 'Maine' 'Connecticut']\n",
      "115 'What is your race?' has unique 6 values: \n",
      " [nan 'White' 'More than one of the above' 'Asian'\n",
      " 'Black or African American' 'I prefer not to answer']\n",
      "116 'Other.3' has unique 14 values: \n",
      " [nan 'South Asian' 'Jewish' 'Hispanic'\n",
      " 'My race is white, but my ethnicity is Latin American' 'Middle Eastern'\n",
      " 'Ashkenazi' 'Latino' 'Latina' 'Indian' 'Hispanic, White'\n",
      " 'European American' 'mexican american ' 'West Indian']\n",
      "117 'What country do you <strong>work</strong> in?' has unique 47 values: \n",
      " ['United Kingdom' 'United States of America' 'Switzerland' 'India'\n",
      " 'Russia' 'Bangladesh' 'Germany' 'Canada' 'Israel' 'Iceland' 'Japan'\n",
      " 'Indonesia' 'Portugal' 'Romania' 'Finland' 'Pakistan' 'Australia'\n",
      " 'South Africa' 'Sweden' 'Serbia' 'Spain' 'Jordan' 'Hungary' 'Croatia'\n",
      " 'Bulgaria' 'New Zealand' 'Italy' 'Argentina' 'Eritrea' 'Greece' 'Austria'\n",
      " 'Netherlands' 'France' 'Mexico' 'Swaziland' 'Brazil' 'Ukraine' 'Ireland'\n",
      " 'Poland' 'Belgium' 'Singapore' 'Slovakia' 'Luxembourg' 'Turkey'\n",
      " 'Czech Republic' 'Latvia' nan]\n",
      "118 'What US state or territory do you <strong>work</strong> in?' has unique 44 values: \n",
      " [nan 'Missouri' 'Washington' 'Illinois' 'California' 'Georgia'\n",
      " 'Pennsylvania' 'Tennessee' 'Ohio' 'Kentucky' 'District of Columbia'\n",
      " 'New York' 'Minnesota' 'Kansas' 'Colorado' 'Virginia' 'Wisconsin'\n",
      " 'Maryland' 'Montana' 'Texas' 'Oregon' 'New Mexico' 'North Carolina'\n",
      " 'Arizona' 'Utah' 'Massachusetts' 'Idaho' 'New Jersey' 'Alabama' 'Alaska'\n",
      " 'Michigan' 'Indiana' 'Nebraska' 'North Dakota' 'Iowa' 'South Dakota'\n",
      " 'South Carolina' 'Nevada' 'Mississippi' 'Florida' 'New Hampshire' 'Maine'\n",
      " 'Connecticut' 'Louisiana']\n"
     ]
    }
   ],
   "source": [
    "for c, col in enumerate(osmi_17.columns):\n",
    "    if c not in (13,16,18,39,42,44,96,98,104,106,108,109,119,120,121): #free text field + 119-121 are timestamps/networkIDs\n",
    "        print('%s \\'%s\\' has unique %s values: \\n %s' %(c, col, len(osmi_17.iloc[:,c].unique()), osmi_17.iloc[:,c].unique()))"
   ]
  },
  {
   "cell_type": "code",
   "execution_count": 5,
   "metadata": {},
   "outputs": [],
   "source": [
    "#duplicated network ID (same person?)\n",
    "dup = osmi_17[osmi_17['Network ID'].isin(osmi_17['Network ID'][osmi_17.duplicated(subset = ['Network ID'])])]\n",
    "dup = dup.sort_values(by='Network ID')\n",
    "#answers are different enough that it doesn't seem to be the same person. Probably use the same IP address at company"
   ]
  },
  {
   "cell_type": "code",
   "execution_count": 6,
   "metadata": {},
   "outputs": [
    {
     "name": "stdout",
     "output_type": "stream",
     "text": [
      "113\n",
      "113\n",
      "113\n",
      "113\n",
      "643 113 756\n"
     ]
    }
   ],
   "source": [
    "#look at nan:\n",
    "print(len(osmi_17[np.isnan(osmi_17.iloc[:,2])]))\n",
    "print(len(osmi_17[np.isnan(osmi_17.iloc[:,3])]))\n",
    "print(len(osmi_17[np.isnan(osmi_17.iloc[:,12])]))\n",
    "print(len(osmi_17[np.isnan(osmi_17.iloc[:,15])]))\n",
    "\n",
    "#113 people have not filled out the survey properly. For now we just checked these 4 columns but it seems like they are consistent\n",
    "#these are actually the ones who are self-employed!!!\n",
    "df_osmi_17_emp = osmi_17[osmi_17.iloc[:,0] == 0]\n",
    "df_osmi_17_self = osmi_17[~osmi_17.index.isin(df_osmi_17_emp.index)]\n",
    "\n",
    "print(len(df_osmi_17_emp), len(df_osmi_17_self), len(osmi_17))"
   ]
  },
  {
   "cell_type": "code",
   "execution_count": 7,
   "metadata": {},
   "outputs": [],
   "source": [
    "#cleanse data: lower case and strip spaces\n",
    "df_osmi_17_emp = df_osmi_17_emp.apply(lambda x: x.str.strip() if x.dtype=='O' else x)\n",
    "df_osmi_17_emp = df_osmi_17_emp.apply(lambda x: x.str.lower() if x.dtype=='O' else x)"
   ]
  },
  {
   "cell_type": "code",
   "execution_count": 8,
   "metadata": {},
   "outputs": [],
   "source": [
    "#look at all the variables with type O\n",
    "\n",
    "lu_table = {}\n",
    "\n",
    "for c, col in enumerate(df_osmi_17_emp.columns):\n",
    "    if df_osmi_17_emp.iloc[:,c].dtype == 'O': #if they are already numbers, we don't need a look up table\n",
    "        #For now, ignore some of the descriptive columns as we just want men vs women for the perception questions\n",
    "        #some are free text which we ignore\n",
    "        if c not in (13,16,18,39,42,44,96,98,104,106,108,109,118):\n",
    "            lu_table[str(c) + col] = pd.DataFrame(data=df_osmi_17_emp.iloc[:,c].unique(),columns = {'label'})"
   ]
  },
  {
   "cell_type": "markdown",
   "metadata": {},
   "source": [
    "## Select the variables and clean them\n",
    "rename columns we are interested in\n",
    "\n",
    "11 Would you feel comfortable discussing a mental health issue with your direct supervisor(s)?\n",
    "\n",
    "14 Would you feel comfortable discussing a mental health issue with your coworkers?"
   ]
  },
  {
   "cell_type": "code",
   "execution_count": 9,
   "metadata": {},
   "outputs": [],
   "source": [
    "#dependent variables (stigma at work)\n",
    "df = df_osmi_17_emp.rename(columns = {'Would you feel comfortable discussing a mental health issue with your direct supervisor(s)?':'comf_supervisors',\n",
    "                                      'Would you feel comfortable discussing a mental health issue with your coworkers?':'comf_coworkers'\n",
    "                                     })\n",
    "\n",
    "#independent variables\n",
    "df = df.rename(columns = {'What is your gender?' : 'gender',\n",
    "                          'What country do you <strong>work</strong> in?':'country',\n",
    "                          'Have you ever been diagnosed with a mental health disorder?':'diagnosed_mh',\n",
    "                          'What is your age?':'age'\n",
    "                         })"
   ]
  },
  {
   "cell_type": "markdown",
   "metadata": {},
   "source": [
    "**Independent variables**"
   ]
  },
  {
   "cell_type": "code",
   "execution_count": 10,
   "metadata": {},
   "outputs": [],
   "source": [
    "# code gender given that it was a free text field. Tried to code it into male, female and non-binary\n",
    "def gender(x):\n",
    "    if x in ('female','f','woman','femalw','femail','female (cis)','my sex is female.','female (cisgender)',\n",
    "             'cis-female','cis female','f, cisgender'):\n",
    "        sex = 'f'\n",
    "    elif x in ('male','m','man','cis-male','mail','cis hetero male','male (cis)','cis male','male-ish','dude'):\n",
    "        sex = 'm'\n",
    "    elif x in ('genderfluid','nonbinary','uhhhhhhhhh fem genderqueer?','non-binary','agender/genderfluid',\n",
    "                'contextual','non binary','genderqueer demigirl','genderqueer/non-binary','transfeminine','none',\n",
    "               'god king of the valajar', 'sometimes', '\\-', np.nan):\n",
    "        sex = 'nb'  #explicitely coding them so i keep track\n",
    "        \n",
    "    return sex\n",
    "df['gender'] = df['gender'].map(lambda x: gender(x))"
   ]
  },
  {
   "cell_type": "code",
   "execution_count": 11,
   "metadata": {},
   "outputs": [],
   "source": [
    "lu = pd.DataFrame({'employee_label':['1-5','6-25','26-100','100-500','500-1000','more than 1000'],\n",
    "                                'emp_more_than':[1,6,26,100,500,1000]})\n",
    "df = df.merge(lu, left_on = 'How many employees does your company or organization have?',right_on = 'employee_label')"
   ]
  },
  {
   "cell_type": "code",
   "execution_count": 12,
   "metadata": {},
   "outputs": [],
   "source": [
    "# df_dummies = pd.get_dummies(df) #only want dummies for our IV??\n",
    "# print(df_dummies)"
   ]
  },
  {
   "cell_type": "raw",
   "metadata": {},
   "source": [
    "score_lu = pd.DataFrame({'survey_answer':['Very easy', 'Somewhat easy', 'Neither easy nor difficult', 'Somewhat difficult', 'Difficult', 'I don\\'t know'],'survey_scale':[0,1,2,3,4,-1]})\n",
    "display(score_lu)\n",
    "df_osmi17 = df_osmi17.merge(score_lu, left_on = 'leave_work', right_on = 'survey_answer')\n",
    "\n",
    "'100-500' '6-25' 'More than 1000' nan '26-100' '1-5' '500-1000'"
   ]
  },
  {
   "cell_type": "markdown",
   "metadata": {},
   "source": [
    "## Data exploration"
   ]
  },
  {
   "cell_type": "code",
   "execution_count": 13,
   "metadata": {},
   "outputs": [
    {
     "name": "stdout",
     "output_type": "stream",
     "text": [
      "                            percent  cum_percent\n",
      "united states of america  70.917574    70.917574\n",
      "united kingdom             8.087092    79.004666\n",
      "germany                    2.643857    81.648523\n",
      "canada                     2.332815    83.981337\n",
      "france                     2.177294    86.158631\n",
      "spain                      2.021773    88.180404\n",
      "netherlands                1.555210    89.735614\n",
      "india                      1.244168    90.979782\n",
      "australia                  1.244168    92.223950\n",
      "switzerland                0.622084    92.846034\n"
     ]
    }
   ],
   "source": [
    "countries = pd.DataFrame()\n",
    "countries['percent'] = pd.Series(df['country']).value_counts(normalize=True, sort=True)*100\n",
    "countries['cum_percent'] = np.cumsum(countries['percent'])\n",
    "\n",
    "print(countries.head(10))\n",
    "# sns.countplot()"
   ]
  },
  {
   "cell_type": "code",
   "execution_count": 41,
   "metadata": {},
   "outputs": [
    {
     "data": {
      "image/png": "[encoded data removed]",
      "text/plain": [
       "<Figure size 432x288 with 1 Axes>"
      ]
     },
     "metadata": {
      "needs_background": "light"
     },
     "output_type": "display_data"
    }
   ],
   "source": [
    "x = df['gender']\n",
    "y = pd.Series(x).value_counts(normalize=True, sort=True)*100\n",
    "\n",
    "ax = sns.barplot(x=y.index, y=y, order = ['f', 'm', 'nb']) #,  estimator=percentage)\n",
    "ax.set(xlabel='Gender',ylabel=\"Percent (%)\")\n",
    "# axes = plt.gca()\n",
    "plt.gca().set_ylim([0,100])\n",
    "plt.xticks(np.arange(3), ('Female', 'Male','Non-Binary'))\n",
    "plt.savefig('img/Gender_dist.png')\n",
    "plt.show()\n",
    "\n",
    "\n",
    "#non-binary is too small a population"
   ]
  },
  {
   "cell_type": "code",
   "execution_count": 15,
   "metadata": {},
   "outputs": [
    {
     "data": {
      "image/png": "[encoded data removed]",
      "text/plain": [
       "<Figure size 432x288 with 1 Axes>"
      ]
     },
     "metadata": {
      "needs_background": "light"
     },
     "output_type": "display_data"
    }
   ],
   "source": [
    "x = df['emp_more_than']\n",
    "y = pd.Series(x).value_counts(normalize=True, sort=True)*100\n",
    "\n",
    "ax = sns.barplot(x=y.index, y=y) #,  estimator=percentage)\n",
    "ax.set(xlabel='Number of employees in company',ylabel=\"Percent (%)\")\n",
    "# plt.xticks(np.arange(3), ('Female', 'Male', 'Non-Binary'))\n",
    "plt.show()\n",
    "#non-binary is too small a population"
   ]
  },
  {
   "cell_type": "code",
   "execution_count": 34,
   "metadata": {},
   "outputs": [
    {
     "data": {
      "image/png": "[encoded data removed]",
      "text/plain": [
       "<Figure size 432x288 with 1 Axes>"
      ]
     },
     "metadata": {
      "needs_background": "light"
     },
     "output_type": "display_data"
    }
   ],
   "source": [
    "x = df['diagnosed_mh'].fillna('Missing')\n",
    "y = pd.Series(x).value_counts(normalize=True, sort=True, dropna = False)*100\n",
    "\n",
    "ax = sns.barplot(x=y.index, y=y) #,  estimator=percentage)\n",
    "ax.set(xlabel='Ever been diagnosed with a mental health disorder',ylabel=\"Percent (%)\")\n",
    "# plt.xticks(np.arange(3), ('Missing','Yes', 'No'))\n",
    "plt.gca().set_ylim([0,100])\n",
    "plt.savefig('img/mh_diagnosed.png')\n",
    "plt.show()"
   ]
  },
  {
   "cell_type": "code",
   "execution_count": 17,
   "metadata": {},
   "outputs": [
    {
     "data": {
      "text/plain": [
       "count    643.000000\n",
       "mean      34.656299\n",
       "std        8.055787\n",
       "min       18.000000\n",
       "25%       29.000000\n",
       "50%       34.000000\n",
       "75%       39.500000\n",
       "max       66.000000\n",
       "Name: age, dtype: float64"
      ]
     },
     "execution_count": 17,
     "metadata": {},
     "output_type": "execute_result"
    }
   ],
   "source": [
    "df['age'].describe()"
   ]
  },
  {
   "cell_type": "code",
   "execution_count": 23,
   "metadata": {},
   "outputs": [
    {
     "data": {
      "text/plain": [
       "<matplotlib.axes._subplots.AxesSubplot at 0x1c1db477b8>"
      ]
     },
     "execution_count": 23,
     "metadata": {},
     "output_type": "execute_result"
    },
    {
     "data": {
      "image/png": "[encoded data removed]",
      "text/plain": [
       "<Figure size 432x288 with 1 Axes>"
      ]
     },
     "metadata": {
      "needs_background": "light"
     },
     "output_type": "display_data"
    }
   ],
   "source": [
    "df['age'].hist()"
   ]
  },
  {
   "cell_type": "code",
   "execution_count": 21,
   "metadata": {},
   "outputs": [
    {
     "data": {
      "image/png": "[encoded data removed]",
      "text/plain": [
       "<Figure size 432x288 with 1 Axes>"
      ]
     },
     "metadata": {
      "needs_background": "light"
     },
     "output_type": "display_data"
    }
   ],
   "source": [
    "sns.boxplot(x=\"gender\", y=\"age\", data=df)\n",
    "plt.savefig('img/age.png')\n",
    "plt.show()"
   ]
  },
  {
   "cell_type": "markdown",
   "metadata": {},
   "source": [
    "Print unique values in each column\n",
    "Needed to be able to cleanse the data as this is not provided"
   ]
  },
  {
   "cell_type": "markdown",
   "metadata": {},
   "source": [
    "## Bivariate relationship between gender and DVs"
   ]
  },
  {
   "cell_type": "code",
   "execution_count": 1426,
   "metadata": {},
   "outputs": [
    {
     "data": {
      "text/html": [
       "<div>\n",
       "<style scoped>\n",
       "    .dataframe tbody tr th:only-of-type {\n",
       "        vertical-align: middle;\n",
       "    }\n",
       "\n",
       "    .dataframe tbody tr th {\n",
       "        vertical-align: top;\n",
       "    }\n",
       "\n",
       "    .dataframe thead th {\n",
       "        text-align: right;\n",
       "    }\n",
       "</style>\n",
       "<table border=\"1\" class=\"dataframe\">\n",
       "  <thead>\n",
       "    <tr style=\"text-align: right;\">\n",
       "      <th>comf_supervisors</th>\n",
       "      <th>maybe</th>\n",
       "      <th>no</th>\n",
       "      <th>yes</th>\n",
       "    </tr>\n",
       "    <tr>\n",
       "      <th>gender</th>\n",
       "      <th></th>\n",
       "      <th></th>\n",
       "      <th></th>\n",
       "    </tr>\n",
       "  </thead>\n",
       "  <tbody>\n",
       "    <tr>\n",
       "      <th>f</th>\n",
       "      <td>62</td>\n",
       "      <td>60</td>\n",
       "      <td>71</td>\n",
       "    </tr>\n",
       "    <tr>\n",
       "      <th>m</th>\n",
       "      <td>148</td>\n",
       "      <td>100</td>\n",
       "      <td>178</td>\n",
       "    </tr>\n",
       "    <tr>\n",
       "      <th>nb</th>\n",
       "      <td>11</td>\n",
       "      <td>6</td>\n",
       "      <td>7</td>\n",
       "    </tr>\n",
       "  </tbody>\n",
       "</table>\n",
       "</div>"
      ],
      "text/plain": [
       "comf_supervisors  maybe   no  yes\n",
       "gender                           \n",
       "f                    62   60   71\n",
       "m                   148  100  178\n",
       "nb                   11    6    7"
      ]
     },
     "execution_count": 1426,
     "metadata": {},
     "output_type": "execute_result"
    }
   ],
   "source": [
    "pd.crosstab(df['gender'],df['comf_supervisors'])"
   ]
  },
  {
   "cell_type": "code",
   "execution_count": 35,
   "metadata": {},
   "outputs": [
    {
     "data": {
      "image/png": "[encoded data removed]",
      "text/plain": [
       "<Figure size 432x288 with 1 Axes>"
      ]
     },
     "metadata": {
      "needs_background": "light"
     },
     "output_type": "display_data"
    }
   ],
   "source": [
    "#continuous variables:\n",
    "import seaborn as sns\n",
    "\n",
    "\n",
    "sns.countplot(x=\"comf_supervisors\", hue=\"gender\", data=df[df['gender']!='nb'])\n",
    "plt.xlabel('Comfortable talking to their Supervisor')\n",
    "plt.gca().set_ylim([0,200])\n",
    "plt.savefig('img/gender_supervisor.png')\n",
    "# sns.distplot(df[df['gender'] == 'm']['comf_supervisors'],label='Men')\n",
    "# sns.distplot(df[df['gender'] == 'f']['comf_supervisors'],label='Women')\n",
    "# sns.distplot(df[df['gender'] == 'nb']['comf_supervisors'],label='Non-binary')\n",
    "# plt.legend()"
   ]
  },
  {
   "cell_type": "code",
   "execution_count": 36,
   "metadata": {},
   "outputs": [
    {
     "data": {
      "image/png": "[encoded data removed]",
      "text/plain": [
       "<Figure size 432x288 with 1 Axes>"
      ]
     },
     "metadata": {
      "needs_background": "light"
     },
     "output_type": "display_data"
    }
   ],
   "source": [
    "sns.countplot(x=\"comf_coworkers\", hue=\"gender\", data=df[df['gender']!='nb'])\n",
    "plt.xlabel('Comfortable talking to their Coworkers')\n",
    "plt.gca().set_ylim([0,200])\n",
    "plt.savefig('img/gender_coworker.png')\n"
   ]
  },
  {
   "cell_type": "markdown",
   "metadata": {},
   "source": [
    "At first glance, doesn't seem that the response is associated with gender. We want to use logistic regression to look at this association and add control variables"
   ]
  },
  {
   "cell_type": "markdown",
   "metadata": {},
   "source": [
    "We exclude self-employed and non-binary"
   ]
  },
  {
   "cell_type": "markdown",
   "metadata": {},
   "source": [
    "## Confounding variables\n",
    "\n",
    "What if the male and female population are not like for like? It's not fair to compare them. We want to see that for **comparable** groups, is there a difference?\n",
    "\n",
    "Multinomial logistic regression: adding control variables and interaction effects to see if gender ever becomes significant\n",
    "interaction only makes sense when variables are not categorical"
   ]
  },
  {
   "cell_type": "code",
   "execution_count": 46,
   "metadata": {},
   "outputs": [],
   "source": [
    "df = df.rename(columns = {'Is your primary role within your company related to tech/IT?':'tech_role',\n",
    "                          'Have you ever discussed your mental health with your employer?':'discussed_employer',\n",
    "                          'Does your employer provide mental health benefits\\xa0as part of healthcare coverage?':'mh_benefits',\n",
    "                        'Do you know the options for mental health care available under your employer-provided health coverage?':'mh_options_know',\n",
    "                        'Has your employer ever formally discussed mental health (for example, as part of a wellness campaign or other official communication)?':'mh_comms',\n",
    "                        'Does your employer offer resources to learn more about mental health disorders and options for seeking help?':'mh_resources',\n",
    "                        'If a mental health issue prompted you to request a medical leave from work, how easy or difficult would it be to ask for that leave?':'medical_leave',\n",
    "                        'Have you ever discussed your mental health with your employer?':'discussed_employer',\n",
    "                        'Have you ever discussed your mental health with coworkers?':'coworker_discuss',\n",
    "                        'Have you ever had a coworker discuss their or another coworker\\'s mental health with you?':'coworker_discuss2',\n",
    "                        'Overall, how much importance does your employer place on mental health?':'mh_importance',\n",
    "                        'Have you had a mental health disorder in the past?':'mh_past',\n",
    "                        'Have you ever sought treatment for a mental health disorder from a mental health professional?':'mh_treatment',\n",
    "                        'Do you have a family history of mental illness?':'family_hist',\n",
    "                        'Have your observations of how another individual who discussed a mental health issue made you less likely to reveal a mental health issue yourself in your current workplace?':'mh_putoff',\n",
    "                        'Are you openly identified at work as a person with a mental health issue?':'mh_open',\n",
    "                        '<strong>Have you observed or experienced an unsupportive or badly handled response to a mental health issue in your current or previous workplace?</strong>':'unsupportive',\n",
    "                        '<strong>Have you observed or experienced supportive or well handled response to a mental health issue in your current or previous workplace?</strong>':'supportive',\n",
    "                        'Overall, how well do you think the tech industry supports employees with mental health issues?':'tech_support',                   \n",
    "                        'How willing would you be to share with friends and family that you have a mental illness?':'share_friends'\n",
    "                          })"
   ]
  },
  {
   "cell_type": "code",
   "execution_count": 47,
   "metadata": {},
   "outputs": [],
   "source": [
    "score_lu = pd.DataFrame({'survey_answer':['very easy', 'somewhat easy', 'neither easy nor difficult', 'somewhat difficult', \n",
    "                                          'difficult', 'i don\\'t know'],'survey_scale':[0,1,2,3,4,np.nan]})\n",
    "df2 = df.merge(score_lu, left_on = 'medical_leave', right_on = 'survey_answer')"
   ]
  },
  {
   "cell_type": "code",
   "execution_count": 48,
   "metadata": {},
   "outputs": [],
   "source": [
    "df2 = df2.drop(columns = 'medical_leave').rename(columns = {'survey_scale':'medical_leave'})\n",
    "df2 = df2[df2['gender']!='nb'] #remove nb as too few"
   ]
  },
  {
   "cell_type": "code",
   "execution_count": 49,
   "metadata": {},
   "outputs": [],
   "source": [
    "# IV: What and how the variables were used:\n",
    "df_logit = pd.DataFrame()\n",
    "\n",
    "#-----------------------------------------------------------------------\n",
    "#---------demographic & personal experience with MH---------------------\n",
    "#What is your gender? m/f dummy\n",
    "df_logit['gender']=df2['gender']\n",
    "df_logit['gender_f'] = df2['gender'].apply(lambda x: 1 if x=='f' else 0)\n",
    "\n",
    "#What is your age? integers\n",
    "df_logit['age'] = df2['age']\n",
    "\n",
    "# Have you ever been diagnosed with a mental health disorder? IV dummy (yes, [no, missing])\n",
    "#we choose diagnosis over self-diagnosed question (was also somewhat colinear to diagnosed_mh)\n",
    "df_logit['diagnosed_mh'] = df2['diagnosed_mh'].apply(lambda x: 1 if x=='yes' else 0)\n",
    "\n",
    "#How willing would you be to share with friends and family that you have a mental illness? scale 0-10\n",
    "df_logit['share_friends'] = df2['share_friends']\n",
    "\n",
    "\n",
    "#-----------------------------------------------------------------------\n",
    "#----------company info and corresponding mh support--------------------\n",
    "#several potential questions but focused on those about communication of employer & health-seeking option\n",
    "\n",
    "# * 6 Has your employer ever formally discussed mental health (for example, as part of a wellness campaign or other official communication)? IV dummy (yes, [no, i don't know])\n",
    "df_logit['mh_comms_y'] = df2['mh_comms'].apply(lambda x: 1 if x=='yes' else 0)\n",
    "\n",
    "# * 7 Does your employer offer resources to learn more about mental health disorders and options for seeking help? (IV dummy (yes, [no, i don't know])\n",
    "df_logit['mh_resources_y'] = df2['mh_resources'].apply(lambda x: 1 if x=='yes' else 0)\n",
    "\n",
    "# * 9 If a mental health issue prompted you to request a medical leave from work, how easy or difficult would it be to ask for that leave? IV scale with i don't know as dummy\n",
    "df_logit['medical_leave_scale'] = df2['medical_leave'].fillna(2) #impute dont know with the same as 'neither easy nor difficult'\n",
    "\n",
    "# * 20 Overall, how much importance does your employer place on mental health? IV scale 0-10 (none - a great deal)\n",
    "df_logit['mh_importance'] = df2['mh_importance']\n",
    "\n",
    "# * 107 Overall, how well do you think the tech industry supports employees with mental health issues? IV 1-5 (star rating)\n",
    "df_logit['tech_support'] = df2['tech_support']\n",
    "\n",
    "#-----------------------------------------------------------------------\n",
    "#---------company culture and personal mh experiences at work-----------\n",
    "# * 12 Have you ever discussed your mental health with your employer? IV (binary)\n",
    "df_logit['discussed_employer'] = df2['discussed_employer']\n",
    "\n",
    "# * 15 Have you ever discussed your mental health with coworkers? IV (binary)\n",
    "df_logit['coworker_discuss'] = df2['coworker_discuss']\n",
    "\n",
    "# * 17 Have you ever had a coworker discuss their or another coworker's mental health with you? IV (1, [0,missing])\n",
    "df_logit['coworker_discuss2'] = df2['coworker_discuss2'].fillna(0)\n",
    "\n",
    "#Have your observations of how another individual who discussed a mental health issue made you less likely to reveal a mental health issue yourself in your current workplace? \n",
    "# IV dummy (yes, no, [maybe, missing])\n",
    "df_logit['mh_putoff_y'] = df2['mh_putoff'].apply(lambda x: 1 if x=='yes' else 0)\n",
    "# df_logit['mh_putoff_n'] = df2['mh_putoff'].apply(lambda x: 1 if x=='no' else 0)\n",
    "\n",
    "# * 99 Are you openly identified at work as a person with a mental health issue? IV binary\n",
    "df_logit['mh_open'] = df2['mh_open']\n",
    "\n",
    "# * 103 <strong>Have you observed or experienced an unsupportive or badly handled response to a mental health issue in your current or previous workplace?</strong> \n",
    "#IV dummy (no, maybe/not sure, ['yes, i observed', 'yes, i experienced'])\n",
    "# df_logit['unsupportive_n'] = df2['unsupportive'].apply(lambda x: 1 if x=='no' else 0)\n",
    "df_logit['unsupportive_y'] = df2['unsupportive'].apply(lambda x: 1 if x in ('yes, i observed','yes, i experienced') else 0)\n",
    "\n",
    "# * 105 <strong>Have you observed or experienced supportive or well handled response to a mental health issue in your current or previous workplace?</strong> \n",
    "#IV dummy (no, [maybe/not sure, i've always been self employed],['yes, i observed', 'yes, i experienced'])\n",
    "# df_logit['supportive_n'] = df2['supportive'].apply(lambda x: 1 if x=='no' else 0)\n",
    "# df_logit['supportive_y'] = df2['supportive'].apply(lambda x: 1 if x in ('yes, i observed','yes, i experienced') else 0)"
   ]
  },
  {
   "cell_type": "markdown",
   "metadata": {},
   "source": [
    "## Investigate bivariate relationships between gender and IVs\n",
    "Demographic variables first"
   ]
  },
  {
   "cell_type": "code",
   "execution_count": 50,
   "metadata": {},
   "outputs": [
    {
     "name": "stderr",
     "output_type": "stream",
     "text": [
      "/Users/jlhc/anaconda3/lib/python3.7/site-packages/scipy/stats/stats.py:1713: FutureWarning: Using a non-tuple sequence for multidimensional indexing is deprecated; use `arr[tuple(seq)]` instead of `arr[seq]`. In the future this will be interpreted as an array index, `arr[np.array(seq)]`, which will result either in an error or a different result.\n",
      "  return np.add.reduce(sorted[indexer] * weights, axis=axis) / sumval\n"
     ]
    },
    {
     "data": {
      "text/plain": [
       "<matplotlib.legend.Legend at 0x1c1e7876d8>"
      ]
     },
     "execution_count": 50,
     "metadata": {},
     "output_type": "execute_result"
    },
    {
     "data": {
      "image/png": "[encoded data removed]",
      "text/plain": [
       "<Figure size 432x288 with 1 Axes>"
      ]
     },
     "metadata": {
      "needs_background": "light"
     },
     "output_type": "display_data"
    }
   ],
   "source": [
    "import seaborn as sns\n",
    "\n",
    "col = 'age' #,'share_friends','medical_leave_scale','mh_importance','tech_support']:\n",
    "sns.distplot(df_logit[df_logit['gender_f'] == 1][col],label='Women')\n",
    "sns.distplot(df_logit[df_logit['gender_f'] == 0][col],label='Men')\n",
    "\n",
    "plt.legend()\n",
    "\n",
    "# for col in ['age','share_friends','medical_leave_scale','mh_importance','tech_support']:\n",
    "#     display(df_logit[['gender_f',col]].corr())"
   ]
  },
  {
   "cell_type": "markdown",
   "metadata": {},
   "source": [
    "## Personal experience"
   ]
  },
  {
   "cell_type": "code",
   "execution_count": 29,
   "metadata": {},
   "outputs": [
    {
     "data": {
      "text/plain": [
       "<matplotlib.legend.Legend at 0x10a65fa58>"
      ]
     },
     "execution_count": 29,
     "metadata": {},
     "output_type": "execute_result"
    },
    {
     "data": {
      "image/png": "[encoded data removed]",
      "text/plain": [
       "<Figure size 432x288 with 1 Axes>"
      ]
     },
     "metadata": {
      "needs_background": "light"
     },
     "output_type": "display_data"
    }
   ],
   "source": [
    "col = 'diagnosed_mh' #,'share_friends','medical_leave_scale','mh_importance','tech_support']:\n",
    "\n",
    "sns.countplot(x=col, hue=\"gender\", data=df_logit)\n",
    "plt.xlabel('diagnosed with mental health disorder')\n",
    "plt.savefig('img/diagnosed.png')\n",
    "plt.legend()"
   ]
  },
  {
   "cell_type": "code",
   "execution_count": 1604,
   "metadata": {},
   "outputs": [
    {
     "data": {
      "text/plain": [
       "193"
      ]
     },
     "execution_count": 1604,
     "metadata": {},
     "output_type": "execute_result"
    }
   ],
   "source": [
    "(df_logit['gender_f']==1).sum()\n",
    "# sns.distplot(df_logit[df_logit['gender_f']==0][col])"
   ]
  },
  {
   "cell_type": "code",
   "execution_count": 1605,
   "metadata": {},
   "outputs": [
    {
     "data": {
      "text/plain": [
       "1    0.518135\n",
       "0    0.481865\n",
       "Name: diagnosed_mh, dtype: float64"
      ]
     },
     "execution_count": 1605,
     "metadata": {},
     "output_type": "execute_result"
    }
   ],
   "source": [
    "df_logit[df_logit['gender_f']==1][col].value_counts()/(df_logit['gender_f']==1).sum()\n"
   ]
  },
  {
   "cell_type": "code",
   "execution_count": 1607,
   "metadata": {},
   "outputs": [
    {
     "data": {
      "text/plain": [
       "0    0.638498\n",
       "1    0.361502\n",
       "Name: diagnosed_mh, dtype: float64"
      ]
     },
     "execution_count": 1607,
     "metadata": {},
     "output_type": "execute_result"
    }
   ],
   "source": [
    "df_logit[df_logit['gender_f']==0][col].value_counts()/(df_logit['gender_f']==0).sum()\n"
   ]
  },
  {
   "cell_type": "code",
   "execution_count": 1520,
   "metadata": {},
   "outputs": [
    {
     "name": "stderr",
     "output_type": "stream",
     "text": [
      "/Users/jlhc/anaconda3/lib/python3.7/site-packages/scipy/stats/stats.py:1713: FutureWarning: Using a non-tuple sequence for multidimensional indexing is deprecated; use `arr[tuple(seq)]` instead of `arr[seq]`. In the future this will be interpreted as an array index, `arr[np.array(seq)]`, which will result either in an error or a different result.\n",
      "  return np.add.reduce(sorted[indexer] * weights, axis=axis) / sumval\n"
     ]
    },
    {
     "data": {
      "text/plain": [
       "<matplotlib.legend.Legend at 0x1c26a513c8>"
      ]
     },
     "execution_count": 1520,
     "metadata": {},
     "output_type": "execute_result"
    },
    {
     "data": {
      "image/png": "[encoded data removed]",
      "text/plain": [
       "<Figure size 432x288 with 1 Axes>"
      ]
     },
     "metadata": {},
     "output_type": "display_data"
    }
   ],
   "source": [
    "col = 'share_friends'\n",
    "sns.distplot(df_logit[df_logit['gender_f'] == 1][col],label='Women')\n",
    "sns.distplot(df_logit[df_logit['gender_f'] == 0][col],label='Men')\n",
    "\n",
    "plt.legend()"
   ]
  },
  {
   "cell_type": "code",
   "execution_count": 1609,
   "metadata": {},
   "outputs": [
    {
     "name": "stderr",
     "output_type": "stream",
     "text": [
      "/Users/jlhc/anaconda3/lib/python3.7/site-packages/scipy/stats/stats.py:1713: FutureWarning: Using a non-tuple sequence for multidimensional indexing is deprecated; use `arr[tuple(seq)]` instead of `arr[seq]`. In the future this will be interpreted as an array index, `arr[np.array(seq)]`, which will result either in an error or a different result.\n",
      "  return np.add.reduce(sorted[indexer] * weights, axis=axis) / sumval\n"
     ]
    },
    {
     "data": {
      "text/plain": [
       "<matplotlib.legend.Legend at 0x1c2ffe5ef0>"
      ]
     },
     "execution_count": 1609,
     "metadata": {},
     "output_type": "execute_result"
    },
    {
     "data": {
      "image/png": "[encoded data removed]",
      "text/plain": [
       "<Figure size 432x288 with 1 Axes>"
      ]
     },
     "metadata": {},
     "output_type": "display_data"
    }
   ],
   "source": [
    "col = 'share_friends'\n",
    "sns.distplot(df2[df2['comf_supervisors'] == 'yes'][col],label='yes')\n",
    "sns.distplot(df2[df2['comf_supervisors'] == 'no'][col],label='no')\n",
    "\n",
    "plt.legend()"
   ]
  },
  {
   "cell_type": "markdown",
   "metadata": {},
   "source": [
    "## company info and corresponding mh support"
   ]
  },
  {
   "cell_type": "code",
   "execution_count": 1522,
   "metadata": {},
   "outputs": [
    {
     "data": {
      "text/plain": [
       "<matplotlib.legend.Legend at 0x1c27b50198>"
      ]
     },
     "execution_count": 1522,
     "metadata": {},
     "output_type": "execute_result"
    },
    {
     "data": {
      "image/png": "[encoded data removed]",
      "text/plain": [
       "<Figure size 432x288 with 1 Axes>"
      ]
     },
     "metadata": {},
     "output_type": "display_data"
    }
   ],
   "source": [
    "col = 'mh_comms_y' \n",
    "sns.countplot(x=col, hue=\"gender\", data=df_logit)\n",
    "plt.legend()"
   ]
  },
  {
   "cell_type": "code",
   "execution_count": 1523,
   "metadata": {},
   "outputs": [
    {
     "data": {
      "text/plain": [
       "<matplotlib.legend.Legend at 0x1c33399b70>"
      ]
     },
     "execution_count": 1523,
     "metadata": {},
     "output_type": "execute_result"
    },
    {
     "data": {
      "image/png": "[encoded data removed]",
      "text/plain": [
       "<Figure size 432x288 with 1 Axes>"
      ]
     },
     "metadata": {},
     "output_type": "display_data"
    }
   ],
   "source": [
    "col = 'mh_resources_y' \n",
    "sns.countplot(x=col, hue=\"gender\", data=df_logit)\n",
    "plt.legend()"
   ]
  },
  {
   "cell_type": "code",
   "execution_count": 1542,
   "metadata": {},
   "outputs": [
    {
     "data": {
      "text/plain": [
       "<matplotlib.legend.Legend at 0x1c3104bcc0>"
      ]
     },
     "execution_count": 1542,
     "metadata": {},
     "output_type": "execute_result"
    },
    {
     "data": {
      "image/png": "[encoded data removed]",
      "text/plain": [
       "<Figure size 432x288 with 1 Axes>"
      ]
     },
     "metadata": {},
     "output_type": "display_data"
    }
   ],
   "source": [
    "col = 'medical_leave_scale'\n",
    "# sns.distplot(df_logit[df_logit['gender_f'] == 1][col],label='Women',norm_hist=False)\n",
    "sns.distplot(df_logit[df_logit['gender_f'] == 0][col],label='Men',kde=0,norm_hist=False, bins=np.arange(df_logit[df_logit['gender_f'] == 0][col].min(), df_logit[df_logit['gender_f'] == 0][col].max() + 1))\n",
    "sns.distplot(df_logit[df_logit['gender_f'] == 1][col],label='Women',kde=0,norm_hist=False, bins=np.arange(df_logit[df_logit['gender_f'] == 0][col].min(), df_logit[df_logit['gender_f'] == 0][col].max() + 1))\n",
    "\n",
    "plt.legend()"
   ]
  },
  {
   "cell_type": "code",
   "execution_count": 1555,
   "metadata": {},
   "outputs": [
    {
     "data": {
      "text/plain": [
       "<matplotlib.axes._subplots.AxesSubplot at 0x1c33cbc940>"
      ]
     },
     "execution_count": 1555,
     "metadata": {},
     "output_type": "execute_result"
    },
    {
     "data": {
      "image/png": "[encoded data removed]",
      "text/plain": [
       "<Figure size 432x288 with 1 Axes>"
      ]
     },
     "metadata": {},
     "output_type": "display_data"
    }
   ],
   "source": [
    "sns.kdeplot(df_logit[df_logit['gender_f'] == 1][col], bw=0.5, label = 'Women')\n",
    "sns.kdeplot(df_logit[df_logit['gender_f'] == 0][col], bw=0.5, label = 'Men')"
   ]
  },
  {
   "cell_type": "code",
   "execution_count": 1524,
   "metadata": {},
   "outputs": [
    {
     "name": "stderr",
     "output_type": "stream",
     "text": [
      "/Users/jlhc/anaconda3/lib/python3.7/site-packages/scipy/stats/stats.py:1713: FutureWarning: Using a non-tuple sequence for multidimensional indexing is deprecated; use `arr[tuple(seq)]` instead of `arr[seq]`. In the future this will be interpreted as an array index, `arr[np.array(seq)]`, which will result either in an error or a different result.\n",
      "  return np.add.reduce(sorted[indexer] * weights, axis=axis) / sumval\n"
     ]
    },
    {
     "data": {
      "text/plain": [
       "<matplotlib.legend.Legend at 0x1c28552c88>"
      ]
     },
     "execution_count": 1524,
     "metadata": {},
     "output_type": "execute_result"
    },
    {
     "data": {
      "image/png": "[encoded data removed]",
      "text/plain": [
       "<Figure size 432x288 with 1 Axes>"
      ]
     },
     "metadata": {},
     "output_type": "display_data"
    }
   ],
   "source": [
    "col = 'mh_importance'\n",
    "sns.distplot(df_logit[df_logit['gender_f'] == 1][col],label='Women')\n",
    "sns.distplot(df_logit[df_logit['gender_f'] == 0][col],label='Men')\n",
    "\n",
    "plt.legend()"
   ]
  },
  {
   "cell_type": "code",
   "execution_count": 1558,
   "metadata": {},
   "outputs": [
    {
     "data": {
      "text/plain": [
       "<matplotlib.legend.Legend at 0x1c3408a860>"
      ]
     },
     "execution_count": 1558,
     "metadata": {},
     "output_type": "execute_result"
    },
    {
     "data": {
      "image/png": "[encoded data removed]",
      "text/plain": [
       "<Figure size 432x288 with 1 Axes>"
      ]
     },
     "metadata": {},
     "output_type": "display_data"
    }
   ],
   "source": [
    "# * 107 Overall, how well do you think the tech industry supports employees with mental health issues? IV 1-5 (star rating)\n",
    "\n",
    "col = 'tech_support'\n",
    "sns.kdeplot(df_logit[df_logit['gender_f'] == 1][col], bw=0.5, label = 'Women')\n",
    "sns.kdeplot(df_logit[df_logit['gender_f'] == 0][col], bw=0.5, label = 'Men')\n",
    "\n",
    "plt.legend()"
   ]
  },
  {
   "cell_type": "markdown",
   "metadata": {},
   "source": [
    "## company culture and personal mh experiences at work"
   ]
  },
  {
   "cell_type": "code",
   "execution_count": 1559,
   "metadata": {},
   "outputs": [
    {
     "data": {
      "text/plain": [
       "<matplotlib.legend.Legend at 0x1c302fbcf8>"
      ]
     },
     "execution_count": 1559,
     "metadata": {},
     "output_type": "execute_result"
    },
    {
     "data": {
      "image/png": "[encoded data removed]",
      "text/plain": [
       "<Figure size 432x288 with 1 Axes>"
      ]
     },
     "metadata": {},
     "output_type": "display_data"
    }
   ],
   "source": [
    "col = 'discussed_employer' \n",
    "sns.countplot(x=col, hue=\"gender\", data=df_logit)\n",
    "plt.legend()"
   ]
  },
  {
   "cell_type": "code",
   "execution_count": 1778,
   "metadata": {},
   "outputs": [
    {
     "data": {
      "image/png": "[encoded data removed]",
      "text/plain": [
       "<Figure size 432x288 with 1 Axes>"
      ]
     },
     "metadata": {},
     "output_type": "display_data"
    }
   ],
   "source": [
    "col = 'coworker_discuss' \n",
    "sns.countplot(x=col, hue=\"gender\", data=df_logit)\n",
    "plt.xlabel('0 = no, 1 = yes')\n",
    "# plt.title('Have you ever discussed your mental health with coworkers?')\n",
    "plt.legend()\n",
    "plt.savefig('img/coworker_discuss.png')"
   ]
  },
  {
   "cell_type": "code",
   "execution_count": 1777,
   "metadata": {},
   "outputs": [
    {
     "data": {
      "image/png": "[encoded data removed]",
      "text/plain": [
       "<Figure size 432x288 with 1 Axes>"
      ]
     },
     "metadata": {},
     "output_type": "display_data"
    }
   ],
   "source": [
    "col = 'coworker_discuss2' \n",
    "sns.countplot(x=col, hue=\"gender\", data=df_logit)\n",
    "plt.xlabel('0 = no, 1 = yes')\n",
    "# plt.title('Have you ever had a coworker discuss their or another coworker\\'s mental health with you?')\n",
    "plt.legend()\n",
    "plt.savefig('img/coworker_discuss2.png')"
   ]
  },
  {
   "cell_type": "code",
   "execution_count": 1616,
   "metadata": {},
   "outputs": [
    {
     "name": "stderr",
     "output_type": "stream",
     "text": [
      "/Users/jlhc/anaconda3/lib/python3.7/site-packages/scipy/stats/stats.py:1713: FutureWarning: Using a non-tuple sequence for multidimensional indexing is deprecated; use `arr[tuple(seq)]` instead of `arr[seq]`. In the future this will be interpreted as an array index, `arr[np.array(seq)]`, which will result either in an error or a different result.\n",
      "  return np.add.reduce(sorted[indexer] * weights, axis=axis) / sumval\n"
     ]
    },
    {
     "data": {
      "text/plain": [
       "<matplotlib.legend.Legend at 0x1c2fae46a0>"
      ]
     },
     "execution_count": 1616,
     "metadata": {},
     "output_type": "execute_result"
    },
    {
     "data": {
      "image/png": "[encoded data removed]",
      "text/plain": [
       "<Figure size 432x288 with 1 Axes>"
      ]
     },
     "metadata": {},
     "output_type": "display_data"
    }
   ],
   "source": [
    "col = 'coworker_discuss2' \n",
    "sns.distplot(df_logit[df_logit['gender_f'] == 1][col],kde=0,norm_hist=1,label='Women')\n",
    "sns.distplot(df_logit[df_logit['gender_f'] == 0][col],kde=0,norm_hist=1,label='Men')\n",
    "plt.xticks([0,1])\n",
    "plt.legend()"
   ]
  },
  {
   "cell_type": "code",
   "execution_count": 1563,
   "metadata": {},
   "outputs": [
    {
     "data": {
      "text/plain": [
       "<matplotlib.legend.Legend at 0x1c34286eb8>"
      ]
     },
     "execution_count": 1563,
     "metadata": {},
     "output_type": "execute_result"
    },
    {
     "data": {
      "image/png": "[encoded data removed]",
      "text/plain": [
       "<Figure size 432x288 with 1 Axes>"
      ]
     },
     "metadata": {},
     "output_type": "display_data"
    }
   ],
   "source": [
    "col = 'mh_putoff' \n",
    "sns.countplot(x=col, hue=\"gender\", data=df2)\n",
    "plt.legend()"
   ]
  },
  {
   "cell_type": "code",
   "execution_count": 1564,
   "metadata": {},
   "outputs": [
    {
     "data": {
      "text/plain": [
       "<matplotlib.legend.Legend at 0x1c31595c50>"
      ]
     },
     "execution_count": 1564,
     "metadata": {},
     "output_type": "execute_result"
    },
    {
     "data": {
      "image/png": "[encoded data removed]",
      "text/plain": [
       "<Figure size 432x288 with 1 Axes>"
      ]
     },
     "metadata": {},
     "output_type": "display_data"
    }
   ],
   "source": [
    "# * 99 Are you openly identified at work as a person with a mental health issue? IV binary\n",
    "col = 'mh_open' \n",
    "sns.countplot(x=col, hue=\"gender\", data=df_logit)\n",
    "plt.legend()"
   ]
  },
  {
   "cell_type": "code",
   "execution_count": 1565,
   "metadata": {},
   "outputs": [
    {
     "data": {
      "text/plain": [
       "<matplotlib.legend.Legend at 0x1c33943a90>"
      ]
     },
     "execution_count": 1565,
     "metadata": {},
     "output_type": "execute_result"
    },
    {
     "data": {
      "image/png": "[encoded data removed]",
      "text/plain": [
       "<Figure size 432x288 with 1 Axes>"
      ]
     },
     "metadata": {},
     "output_type": "display_data"
    }
   ],
   "source": [
    "col = 'unsupportive' \n",
    "sns.countplot(x=col, hue=\"gender\", data=df2)\n",
    "plt.legend()"
   ]
  },
  {
   "cell_type": "markdown",
   "metadata": {},
   "source": [
    "## Logistic regression"
   ]
  },
  {
   "cell_type": "markdown",
   "metadata": {},
   "source": [
    "### Colinearity is an issue\n",
    "We can test for this as follows (simple correlation works as well but this is easier to interpret):"
   ]
  },
  {
   "cell_type": "code",
   "execution_count": 52,
   "metadata": {},
   "outputs": [
    {
     "data": {
      "text/plain": [
       "array([2.77143034, 2.00162932, 1.4751474 , 1.15362434, 0.98855524,\n",
       "       0.9190125 , 0.46269286, 0.47040141, 0.52527301, 0.56358274,\n",
       "       0.64330841, 0.68104121, 0.75098429, 0.80818652, 0.78513039])"
      ]
     },
     "execution_count": 52,
     "metadata": {},
     "output_type": "execute_result"
    }
   ],
   "source": [
    "# xs = np.random.randn(100, 5)      # independent variables\n",
    "corr = np.corrcoef(df_logit.drop(columns='gender'), rowvar=0)  # correlation matrix\n",
    "w, v = np.linalg.eig(corr)        # eigen values & eigen vectors\n",
    "w\n",
    "# X.corr()"
   ]
  },
  {
   "cell_type": "code",
   "execution_count": 1352,
   "metadata": {},
   "outputs": [],
   "source": [
    "#entry of index 7 is the one closest to 0. Arguably not close enough to indicate colinearity but we can check anyway\n",
    "#the corresponding eigenvector is:\n",
    "# v[:,7]"
   ]
  },
  {
   "cell_type": "code",
   "execution_count": 1353,
   "metadata": {},
   "outputs": [],
   "source": [
    "#ignoring the almost 0 coefficients, this shows that the columns of index 3 and 7 are somewhat colinear.\n",
    "#this is:\n",
    "# print(df_logit.columns[3],df_logit.columns[7])"
   ]
  },
  {
   "cell_type": "markdown",
   "metadata": {},
   "source": [
    "Confounding variables:\n",
    "\n",
    "discussed_employer and comf_supervisors: if you have already spoken to them, you might be more comfortable? although not necessarily as it could be a bad experience and also, doesn't mean it is direct supervisor"
   ]
  },
  {
   "cell_type": "code",
   "execution_count": 55,
   "metadata": {},
   "outputs": [],
   "source": [
    "DV_cat = ['comf_supervisors','comf_coworkers']"
   ]
  },
  {
   "cell_type": "code",
   "execution_count": 56,
   "metadata": {},
   "outputs": [
    {
     "name": "stdout",
     "output_type": "stream",
     "text": [
      "Optimization terminated successfully.\n",
      "         Current function value: 0.879540\n",
      "         Iterations 6\n",
      "                          MNLogit Regression Results                          \n",
      "==============================================================================\n",
      "Dep. Variable:       comf_supervisors   No. Observations:                  619\n",
      "Model:                        MNLogit   Df Residuals:                      585\n",
      "Method:                           MLE   Df Model:                           32\n",
      "Date:                Sun, 13 Jan 2019   Pseudo R-squ.:                  0.1877\n",
      "Time:                        10:03:59   Log-Likelihood:                -544.44\n",
      "converged:                       True   LL-Null:                       -670.23\n",
      "                                        LLR p-value:                 6.321e-36\n",
      "=========================================================================================\n",
      "comf_supervisors=2_maybe       coef    std err          z      P>|z|      [0.025      0.975]\n",
      "--------------------------------------------------------------------------------------------\n",
      "const                        2.2175      0.779      2.848      0.004       0.691       3.744\n",
      "gender_f                    -1.1514      0.979     -1.176      0.240      -3.070       0.768\n",
      "age                         -0.0184      0.016     -1.178      0.239      -0.049       0.012\n",
      "diagnosed_mh                 0.4602      0.258      1.786      0.074      -0.045       0.965\n",
      "share_friends               -0.1418      0.045     -3.133      0.002      -0.230      -0.053\n",
      "mh_comms_y                   0.1330      0.281      0.474      0.636      -0.417       0.683\n",
      "mh_resources_y              -0.0733      0.259     -0.283      0.777      -0.581       0.434\n",
      "medical_leave_scale          0.1695      0.096      1.763      0.078      -0.019       0.358\n",
      "mh_importance               -0.0827      0.052     -1.584      0.113      -0.185       0.020\n",
      "tech_support                -0.1074      0.125     -0.860      0.390      -0.352       0.137\n",
      "discussed_employer          -1.0717      0.247     -4.332      0.000      -1.557      -0.587\n",
      "coworker_discuss            -0.4898      0.252     -1.947      0.051      -0.983       0.003\n",
      "coworker_discuss2            0.0667      0.225      0.296      0.767      -0.374       0.507\n",
      "mh_putoff_y                  0.5169      0.359      1.438      0.150      -0.188       1.221\n",
      "mh_open                     -0.1977      0.364     -0.543      0.587      -0.912       0.516\n",
      "unsupportive_y               0.1899      0.258      0.737      0.461      -0.315       0.695\n",
      "gender_f:age                 0.0387      0.028      1.390      0.164      -0.016       0.093\n",
      "--------------------------------------------------------------------------------------------\n",
      "comf_supervisors=3_no       coef    std err          z      P>|z|      [0.025      0.975]\n",
      "-----------------------------------------------------------------------------------------\n",
      "const                     2.6412      0.940      2.808      0.005       0.798       4.485\n",
      "gender_f                 -0.1832      1.148     -0.160      0.873      -2.434       2.067\n",
      "age                      -0.0036      0.019     -0.188      0.851      -0.042       0.034\n",
      "diagnosed_mh              1.2169      0.310      3.920      0.000       0.608       1.825\n",
      "share_friends            -0.3518      0.053     -6.648      0.000      -0.456      -0.248\n",
      "mh_comms_y                0.5916      0.352      1.681      0.093      -0.098       1.281\n",
      "mh_resources_y           -0.6035      0.334     -1.805      0.071      -1.259       0.052\n",
      "medical_leave_scale       0.4232      0.115      3.686      0.000       0.198       0.648\n",
      "mh_importance            -0.1877      0.063     -2.979      0.003      -0.311      -0.064\n",
      "tech_support             -0.2388      0.154     -1.551      0.121      -0.540       0.063\n",
      "discussed_employer       -1.9030      0.352     -5.408      0.000      -2.593      -1.213\n",
      "coworker_discuss         -0.5424      0.311     -1.745      0.081      -1.151       0.067\n",
      "coworker_discuss2        -0.1800      0.277     -0.649      0.516      -0.724       0.363\n",
      "mh_putoff_y               0.6107      0.394      1.549      0.121      -0.162       1.384\n",
      "mh_open                  -0.0507      0.498     -0.102      0.919      -1.027       0.926\n",
      "unsupportive_y            0.5907      0.306      1.928      0.054      -0.010       1.191\n",
      "gender_f:age              0.0219      0.032      0.674      0.500      -0.042       0.086\n",
      "=========================================================================================\n",
      "{0: '1_yes', 1: '2_maybe', 2: '3_no'}\n"
     ]
    }
   ],
   "source": [
    "X = df_logit.drop(columns = 'gender')\n",
    "X_const = sm.add_constant(X) #add constant\n",
    "\n",
    "#changing order so that 'yes' becomes reference category\n",
    "y = df2[DV_cat[0]].apply(lambda x: '1_yes' if x == 'yes' else \n",
    "                         ('2_maybe' if x == 'maybe' else '3_no'))\n",
    "model = sm.MNLogit(y, X_const)\n",
    "results = model.fit()\n",
    "print(results.summary())\n",
    "print(results.model._ynames_map)"
   ]
  },
  {
   "cell_type": "code",
   "execution_count": 57,
   "metadata": {},
   "outputs": [
    {
     "name": "stdout",
     "output_type": "stream",
     "text": [
      "\\begin{center}\n",
      "\\begin{tabular}{lclc}\n",
      "\\toprule\n",
      "\\textbf{Dep. Variable:}             & comf_supervisors & \\textbf{  No. Observations:  } &      619    \\\\\n",
      "\\textbf{Model:}                     &     MNLogit      & \\textbf{  Df Residuals:      } &      585    \\\\\n",
      "\\textbf{Method:}                    &       MLE        & \\textbf{  Df Model:          } &       32    \\\\\n",
      "\\textbf{Date:}                      & Sun, 13 Jan 2019 & \\textbf{  Pseudo R-squ.:     } &   0.1877    \\\\\n",
      "\\textbf{Time:}                      &     10:04:00     & \\textbf{  Log-Likelihood:    } &   -544.44   \\\\\n",
      "\\textbf{converged:}                 &       True       & \\textbf{  LL-Null:           } &   -670.23   \\\\\n",
      "\\bottomrule\n",
      "\\end{tabular}\n",
      "\\begin{tabular}{ccccccc}\n",
      "\\textbf{comf\\_supervisors=2\\_maybe} & \\textbf{coef} & \\textbf{std err} & \\textbf{z} & \\textbf{P$>$$|$z$|$} & \\textbf{[0.025} & \\textbf{0.975]}  \\\\\n",
      "\\midrule\n",
      "\\bottomrule\n",
      "\\end{tabular}\n",
      "\\begin{tabular}{lcccccc}\n",
      "\\textbf{const}                      &       2.2175  &        0.779     &     2.848  &         0.004        &        0.691    &        3.744     \\\\\n",
      "\\textbf{gender\\_f}                  &      -1.1514  &        0.979     &    -1.176  &         0.240        &       -3.070    &        0.768     \\\\\n",
      "\\textbf{age}                        &      -0.0184  &        0.016     &    -1.178  &         0.239        &       -0.049    &        0.012     \\\\\n",
      "\\textbf{diagnosed\\_mh}              &       0.4602  &        0.258     &     1.786  &         0.074        &       -0.045    &        0.965     \\\\\n",
      "\\textbf{share\\_friends}             &      -0.1418  &        0.045     &    -3.133  &         0.002        &       -0.230    &       -0.053     \\\\\n",
      "\\textbf{mh\\_comms\\_y}               &       0.1330  &        0.281     &     0.474  &         0.636        &       -0.417    &        0.683     \\\\\n",
      "\\textbf{mh\\_resources\\_y}           &      -0.0733  &        0.259     &    -0.283  &         0.777        &       -0.581    &        0.434     \\\\\n",
      "\\textbf{medical\\_leave\\_scale}      &       0.1695  &        0.096     &     1.763  &         0.078        &       -0.019    &        0.358     \\\\\n",
      "\\textbf{mh\\_importance}             &      -0.0827  &        0.052     &    -1.584  &         0.113        &       -0.185    &        0.020     \\\\\n",
      "\\textbf{tech\\_support}              &      -0.1074  &        0.125     &    -0.860  &         0.390        &       -0.352    &        0.137     \\\\\n",
      "\\textbf{discussed\\_employer}        &      -1.0717  &        0.247     &    -4.332  &         0.000        &       -1.557    &       -0.587     \\\\\n",
      "\\textbf{coworker\\_discuss}          &      -0.4898  &        0.252     &    -1.947  &         0.051        &       -0.983    &        0.003     \\\\\n",
      "\\textbf{coworker\\_discuss2}         &       0.0667  &        0.225     &     0.296  &         0.767        &       -0.374    &        0.507     \\\\\n",
      "\\textbf{mh\\_putoff\\_y}              &       0.5169  &        0.359     &     1.438  &         0.150        &       -0.188    &        1.221     \\\\\n",
      "\\textbf{mh\\_open}                   &      -0.1977  &        0.364     &    -0.543  &         0.587        &       -0.912    &        0.516     \\\\\n",
      "\\textbf{unsupportive\\_y}            &       0.1899  &        0.258     &     0.737  &         0.461        &       -0.315    &        0.695     \\\\\n",
      "\\textbf{gender\\_f:age}              &       0.0387  &        0.028     &     1.390  &         0.164        &       -0.016    &        0.093     \\\\\n",
      "\\bottomrule\n",
      "\\end{tabular}\n",
      "\\begin{tabular}{ccccccc}\n",
      "\\textbf{comf\\_supervisors=3\\_no} & \\textbf{coef} & \\textbf{std err} & \\textbf{z} & \\textbf{P$>$$|$z$|$} & \\textbf{[0.025} & \\textbf{0.975]}  \\\\\n",
      "\\midrule\n",
      "\\bottomrule\n",
      "\\end{tabular}\n",
      "\\begin{tabular}{lcccccc}\n",
      "\\textbf{const}                   &       2.6412  &        0.940     &     2.808  &         0.005        &        0.798    &        4.485     \\\\\n",
      "\\textbf{gender\\_f}               &      -0.1832  &        1.148     &    -0.160  &         0.873        &       -2.434    &        2.067     \\\\\n",
      "\\textbf{age}                     &      -0.0036  &        0.019     &    -0.188  &         0.851        &       -0.042    &        0.034     \\\\\n",
      "\\textbf{diagnosed\\_mh}           &       1.2169  &        0.310     &     3.920  &         0.000        &        0.608    &        1.825     \\\\\n",
      "\\textbf{share\\_friends}          &      -0.3518  &        0.053     &    -6.648  &         0.000        &       -0.456    &       -0.248     \\\\\n",
      "\\textbf{mh\\_comms\\_y}            &       0.5916  &        0.352     &     1.681  &         0.093        &       -0.098    &        1.281     \\\\\n",
      "\\textbf{mh\\_resources\\_y}        &      -0.6035  &        0.334     &    -1.805  &         0.071        &       -1.259    &        0.052     \\\\\n",
      "\\textbf{medical\\_leave\\_scale}   &       0.4232  &        0.115     &     3.686  &         0.000        &        0.198    &        0.648     \\\\\n",
      "\\textbf{mh\\_importance}          &      -0.1877  &        0.063     &    -2.979  &         0.003        &       -0.311    &       -0.064     \\\\\n",
      "\\textbf{tech\\_support}           &      -0.2388  &        0.154     &    -1.551  &         0.121        &       -0.540    &        0.063     \\\\\n",
      "\\textbf{discussed\\_employer}     &      -1.9030  &        0.352     &    -5.408  &         0.000        &       -2.593    &       -1.213     \\\\\n",
      "\\textbf{coworker\\_discuss}       &      -0.5424  &        0.311     &    -1.745  &         0.081        &       -1.151    &        0.067     \\\\\n",
      "\\textbf{coworker\\_discuss2}      &      -0.1800  &        0.277     &    -0.649  &         0.516        &       -0.724    &        0.363     \\\\\n",
      "\\textbf{mh\\_putoff\\_y}           &       0.6107  &        0.394     &     1.549  &         0.121        &       -0.162    &        1.384     \\\\\n",
      "\\textbf{mh\\_open}                &      -0.0507  &        0.498     &    -0.102  &         0.919        &       -1.027    &        0.926     \\\\\n",
      "\\textbf{unsupportive\\_y}         &       0.5907  &        0.306     &     1.928  &         0.054        &       -0.010    &        1.191     \\\\\n",
      "\\textbf{gender\\_f:age}           &       0.0219  &        0.032     &     0.674  &         0.500        &       -0.042    &        0.086     \\\\\n",
      "\\bottomrule\n",
      "\\end{tabular}\n",
      "%\\caption{MNLogit Regression Results}\n",
      "\\end{center}\n"
     ]
    }
   ],
   "source": [
    "latex_model = results.summary().as_latex()\n",
    "print(latex_model)"
   ]
  },
  {
   "cell_type": "code",
   "execution_count": 58,
   "metadata": {},
   "outputs": [
    {
     "name": "stdout",
     "output_type": "stream",
     "text": [
      "Optimization terminated successfully.\n",
      "         Current function value: 0.810656\n",
      "         Iterations 7\n",
      "                          MNLogit Regression Results                          \n",
      "==============================================================================\n",
      "Dep. Variable:         comf_coworkers   No. Observations:                  619\n",
      "Model:                        MNLogit   Df Residuals:                      585\n",
      "Method:                           MLE   Df Model:                           32\n",
      "Date:                Sun, 13 Jan 2019   Pseudo R-squ.:                  0.2386\n",
      "Time:                        10:04:01   Log-Likelihood:                -501.80\n",
      "converged:                       True   LL-Null:                       -659.03\n",
      "                                        LLR p-value:                 3.893e-48\n",
      "=======================================================================================\n",
      "comf_coworkers=2_maybe       coef    std err          z      P>|z|      [0.025      0.975]\n",
      "------------------------------------------------------------------------------------------\n",
      "const                      0.7369      0.818      0.901      0.368      -0.866       2.340\n",
      "gender_f                   0.9434      1.079      0.875      0.382      -1.171       3.057\n",
      "age                        0.0452      0.017      2.702      0.007       0.012       0.078\n",
      "diagnosed_mh               0.6827      0.270      2.530      0.011       0.154       1.212\n",
      "share_friends             -0.1792      0.051     -3.529      0.000      -0.279      -0.080\n",
      "mh_comms_y                -0.8029      0.295     -2.719      0.007      -1.382      -0.224\n",
      "mh_resources_y             0.5807      0.278      2.088      0.037       0.036       1.126\n",
      "medical_leave_scale        0.2431      0.103      2.370      0.018       0.042       0.444\n",
      "mh_importance             -0.0266      0.054     -0.490      0.624      -0.133       0.080\n",
      "tech_support              -0.0013      0.134     -0.010      0.992      -0.264       0.262\n",
      "discussed_employer        -0.3731      0.247     -1.513      0.130      -0.856       0.110\n",
      "coworker_discuss          -1.0992      0.267     -4.122      0.000      -1.622      -0.577\n",
      "coworker_discuss2         -0.7010      0.236     -2.966      0.003      -1.164      -0.238\n",
      "mh_putoff_y                0.7749      0.400      1.938      0.053      -0.009       1.559\n",
      "mh_open                   -1.3845      0.376     -3.683      0.000      -2.121      -0.648\n",
      "unsupportive_y             0.0873      0.270      0.324      0.746      -0.441       0.616\n",
      "gender_f:age              -0.0202      0.031     -0.651      0.515      -0.081       0.041\n",
      "------------------------------------------------------------------------------------------\n",
      "comf_coworkers=3_no       coef    std err          z      P>|z|      [0.025      0.975]\n",
      "---------------------------------------------------------------------------------------\n",
      "const                   2.5787      1.039      2.482      0.013       0.543       4.615\n",
      "gender_f               -0.1328      1.337     -0.099      0.921      -2.753       2.488\n",
      "age                     0.0229      0.022      1.042      0.297      -0.020       0.066\n",
      "diagnosed_mh            1.1317      0.351      3.221      0.001       0.443       1.820\n",
      "share_friends          -0.3590      0.060     -5.953      0.000      -0.477      -0.241\n",
      "mh_comms_y              0.1541      0.391      0.395      0.693      -0.612       0.920\n",
      "mh_resources_y         -0.3971      0.387     -1.027      0.305      -1.155       0.361\n",
      "medical_leave_scale     0.4226      0.129      3.279      0.001       0.170       0.675\n",
      "mh_importance           0.0007      0.070      0.010      0.992      -0.136       0.138\n",
      "tech_support           -0.4451      0.175     -2.538      0.011      -0.789      -0.101\n",
      "discussed_employer     -0.6419      0.370     -1.736      0.083      -1.367       0.083\n",
      "coworker_discuss       -2.6770      0.380     -7.041      0.000      -3.422      -1.932\n",
      "coworker_discuss2      -0.6023      0.307     -1.959      0.050      -1.205       0.000\n",
      "mh_putoff_y             1.5076      0.464      3.249      0.001       0.598       2.417\n",
      "mh_open                -1.1504      0.607     -1.896      0.058      -2.340       0.039\n",
      "unsupportive_y          0.3778      0.345      1.095      0.273      -0.298       1.054\n",
      "gender_f:age            0.0116      0.038      0.304      0.761      -0.063       0.086\n",
      "=======================================================================================\n",
      "{0: '1_yes', 1: '2_maybe', 2: '3_no'}\n"
     ]
    }
   ],
   "source": [
    "#changing order so that 'yes' becomes reference category\n",
    "y = df2[DV_cat[1]].apply(lambda x: '1_yes' if x == 'yes' else \n",
    "                         ('2_maybe' if x == 'maybe' else '3_no'))\n",
    "model = sm.MNLogit(y, X_const)\n",
    "results = model.fit()\n",
    "print(results.summary())\n",
    "print(results.model._ynames_map)"
   ]
  },
  {
   "cell_type": "code",
   "execution_count": 59,
   "metadata": {},
   "outputs": [
    {
     "name": "stdout",
     "output_type": "stream",
     "text": [
      "\\begin{center}\n",
      "\\begin{tabular}{lclc}\n",
      "\\toprule\n",
      "\\textbf{Dep. Variable:}           &  comf_coworkers  & \\textbf{  No. Observations:  } &      619    \\\\\n",
      "\\textbf{Model:}                   &     MNLogit      & \\textbf{  Df Residuals:      } &      585    \\\\\n",
      "\\textbf{Method:}                  &       MLE        & \\textbf{  Df Model:          } &       32    \\\\\n",
      "\\textbf{Date:}                    & Sun, 13 Jan 2019 & \\textbf{  Pseudo R-squ.:     } &   0.2386    \\\\\n",
      "\\textbf{Time:}                    &     10:04:01     & \\textbf{  Log-Likelihood:    } &   -501.80   \\\\\n",
      "\\textbf{converged:}               &       True       & \\textbf{  LL-Null:           } &   -659.03   \\\\\n",
      "\\bottomrule\n",
      "\\end{tabular}\n",
      "\\begin{tabular}{ccccccc}\n",
      "\\textbf{comf\\_coworkers=2\\_maybe} & \\textbf{coef} & \\textbf{std err} & \\textbf{z} & \\textbf{P$>$$|$z$|$} & \\textbf{[0.025} & \\textbf{0.975]}  \\\\\n",
      "\\midrule\n",
      "\\bottomrule\n",
      "\\end{tabular}\n",
      "\\begin{tabular}{lcccccc}\n",
      "\\textbf{const}                    &       0.7369  &        0.818     &     0.901  &         0.368        &       -0.866    &        2.340     \\\\\n",
      "\\textbf{gender\\_f}                &       0.9434  &        1.079     &     0.875  &         0.382        &       -1.171    &        3.057     \\\\\n",
      "\\textbf{age}                      &       0.0452  &        0.017     &     2.702  &         0.007        &        0.012    &        0.078     \\\\\n",
      "\\textbf{diagnosed\\_mh}            &       0.6827  &        0.270     &     2.530  &         0.011        &        0.154    &        1.212     \\\\\n",
      "\\textbf{share\\_friends}           &      -0.1792  &        0.051     &    -3.529  &         0.000        &       -0.279    &       -0.080     \\\\\n",
      "\\textbf{mh\\_comms\\_y}             &      -0.8029  &        0.295     &    -2.719  &         0.007        &       -1.382    &       -0.224     \\\\\n",
      "\\textbf{mh\\_resources\\_y}         &       0.5807  &        0.278     &     2.088  &         0.037        &        0.036    &        1.126     \\\\\n",
      "\\textbf{medical\\_leave\\_scale}    &       0.2431  &        0.103     &     2.370  &         0.018        &        0.042    &        0.444     \\\\\n",
      "\\textbf{mh\\_importance}           &      -0.0266  &        0.054     &    -0.490  &         0.624        &       -0.133    &        0.080     \\\\\n",
      "\\textbf{tech\\_support}            &      -0.0013  &        0.134     &    -0.010  &         0.992        &       -0.264    &        0.262     \\\\\n",
      "\\textbf{discussed\\_employer}      &      -0.3731  &        0.247     &    -1.513  &         0.130        &       -0.856    &        0.110     \\\\\n",
      "\\textbf{coworker\\_discuss}        &      -1.0992  &        0.267     &    -4.122  &         0.000        &       -1.622    &       -0.577     \\\\\n",
      "\\textbf{coworker\\_discuss2}       &      -0.7010  &        0.236     &    -2.966  &         0.003        &       -1.164    &       -0.238     \\\\\n",
      "\\textbf{mh\\_putoff\\_y}            &       0.7749  &        0.400     &     1.938  &         0.053        &       -0.009    &        1.559     \\\\\n",
      "\\textbf{mh\\_open}                 &      -1.3845  &        0.376     &    -3.683  &         0.000        &       -2.121    &       -0.648     \\\\\n",
      "\\textbf{unsupportive\\_y}          &       0.0873  &        0.270     &     0.324  &         0.746        &       -0.441    &        0.616     \\\\\n",
      "\\textbf{gender\\_f:age}            &      -0.0202  &        0.031     &    -0.651  &         0.515        &       -0.081    &        0.041     \\\\\n",
      "\\bottomrule\n",
      "\\end{tabular}\n",
      "\\begin{tabular}{ccccccc}\n",
      "\\textbf{comf\\_coworkers=3\\_no} & \\textbf{coef} & \\textbf{std err} & \\textbf{z} & \\textbf{P$>$$|$z$|$} & \\textbf{[0.025} & \\textbf{0.975]}  \\\\\n",
      "\\midrule\n",
      "\\bottomrule\n",
      "\\end{tabular}\n",
      "\\begin{tabular}{lcccccc}\n",
      "\\textbf{const}                 &       2.5787  &        1.039     &     2.482  &         0.013        &        0.543    &        4.615     \\\\\n",
      "\\textbf{gender\\_f}             &      -0.1328  &        1.337     &    -0.099  &         0.921        &       -2.753    &        2.488     \\\\\n",
      "\\textbf{age}                   &       0.0229  &        0.022     &     1.042  &         0.297        &       -0.020    &        0.066     \\\\\n",
      "\\textbf{diagnosed\\_mh}         &       1.1317  &        0.351     &     3.221  &         0.001        &        0.443    &        1.820     \\\\\n",
      "\\textbf{share\\_friends}        &      -0.3590  &        0.060     &    -5.953  &         0.000        &       -0.477    &       -0.241     \\\\\n",
      "\\textbf{mh\\_comms\\_y}          &       0.1541  &        0.391     &     0.395  &         0.693        &       -0.612    &        0.920     \\\\\n",
      "\\textbf{mh\\_resources\\_y}      &      -0.3971  &        0.387     &    -1.027  &         0.305        &       -1.155    &        0.361     \\\\\n",
      "\\textbf{medical\\_leave\\_scale} &       0.4226  &        0.129     &     3.279  &         0.001        &        0.170    &        0.675     \\\\\n",
      "\\textbf{mh\\_importance}        &       0.0007  &        0.070     &     0.010  &         0.992        &       -0.136    &        0.138     \\\\\n",
      "\\textbf{tech\\_support}         &      -0.4451  &        0.175     &    -2.538  &         0.011        &       -0.789    &       -0.101     \\\\\n",
      "\\textbf{discussed\\_employer}   &      -0.6419  &        0.370     &    -1.736  &         0.083        &       -1.367    &        0.083     \\\\\n",
      "\\textbf{coworker\\_discuss}     &      -2.6770  &        0.380     &    -7.041  &         0.000        &       -3.422    &       -1.932     \\\\\n",
      "\\textbf{coworker\\_discuss2}    &      -0.6023  &        0.307     &    -1.959  &         0.050        &       -1.205    &        0.000     \\\\\n",
      "\\textbf{mh\\_putoff\\_y}         &       1.5076  &        0.464     &     3.249  &         0.001        &        0.598    &        2.417     \\\\\n",
      "\\textbf{mh\\_open}              &      -1.1504  &        0.607     &    -1.896  &         0.058        &       -2.340    &        0.039     \\\\\n",
      "\\textbf{unsupportive\\_y}       &       0.3778  &        0.345     &     1.095  &         0.273        &       -0.298    &        1.054     \\\\\n",
      "\\textbf{gender\\_f:age}         &       0.0116  &        0.038     &     0.304  &         0.761        &       -0.063    &        0.086     \\\\\n",
      "\\bottomrule\n",
      "\\end{tabular}\n",
      "%\\caption{MNLogit Regression Results}\n",
      "\\end{center}\n"
     ]
    }
   ],
   "source": [
    "latex_model = results.summary().as_latex()\n",
    "print(latex_model)"
   ]
  },
  {
   "cell_type": "markdown",
   "metadata": {},
   "source": [
    "Notes: https://stats.idre.ucla.edu/stata/output/multinomial-logistic-regression-2/\n",
    "\n",
    "LLR p value << 0.05 (log likelihood ratio test significant)\n",
    "\n",
    "\"the standard interpretation of the multinomial logit is that for a unit change in the predictor variable, the logit of outcome m relative to the referent group is expected to change by its respective parameter estimate given the variables in the model are held constant.\" e.g. for 1 unit change of unsupportive_n, multinomial log-odds for 'yes' relative to referrent 'maybe' is expected to increase by 0.9605 given the variables in the model are held constant\n",
    "\n",
    "\n",
    "Bad experiences (unsupportive) is more significant than supportive"
   ]
  },
  {
   "cell_type": "code",
   "execution_count": 60,
   "metadata": {},
   "outputs": [],
   "source": [
    "#interactions with gender\n",
    "df_logit['gender_f:age'] = df_logit['gender_f']*df_logit['age']"
   ]
  },
  {
   "cell_type": "code",
   "execution_count": 72,
   "metadata": {},
   "outputs": [
    {
     "name": "stdout",
     "output_type": "stream",
     "text": [
      "Optimization terminated successfully.\n",
      "         Current function value: 0.879540\n",
      "         Iterations 6\n",
      "                          MNLogit Regression Results                          \n",
      "==============================================================================\n",
      "Dep. Variable:       comf_supervisors   No. Observations:                  619\n",
      "Model:                        MNLogit   Df Residuals:                      585\n",
      "Method:                           MLE   Df Model:                           32\n",
      "Date:                Sun, 13 Jan 2019   Pseudo R-squ.:                  0.1877\n",
      "Time:                        10:10:19   Log-Likelihood:                -544.44\n",
      "converged:                       True   LL-Null:                       -670.23\n",
      "                                        LLR p-value:                 6.321e-36\n",
      "=========================================================================================\n",
      "comf_supervisors=2_maybe       coef    std err          z      P>|z|      [0.025      0.975]\n",
      "--------------------------------------------------------------------------------------------\n",
      "const                        2.2175      0.779      2.848      0.004       0.691       3.744\n",
      "gender_f                    -1.1514      0.979     -1.176      0.240      -3.070       0.768\n",
      "age                         -0.0184      0.016     -1.178      0.239      -0.049       0.012\n",
      "diagnosed_mh                 0.4602      0.258      1.786      0.074      -0.045       0.965\n",
      "share_friends               -0.1418      0.045     -3.133      0.002      -0.230      -0.053\n",
      "mh_comms_y                   0.1330      0.281      0.474      0.636      -0.417       0.683\n",
      "mh_resources_y              -0.0733      0.259     -0.283      0.777      -0.581       0.434\n",
      "medical_leave_scale          0.1695      0.096      1.763      0.078      -0.019       0.358\n",
      "mh_importance               -0.0827      0.052     -1.584      0.113      -0.185       0.020\n",
      "tech_support                -0.1074      0.125     -0.860      0.390      -0.352       0.137\n",
      "discussed_employer          -1.0717      0.247     -4.332      0.000      -1.557      -0.587\n",
      "coworker_discuss            -0.4898      0.252     -1.947      0.051      -0.983       0.003\n",
      "coworker_discuss2            0.0667      0.225      0.296      0.767      -0.374       0.507\n",
      "mh_putoff_y                  0.5169      0.359      1.438      0.150      -0.188       1.221\n",
      "mh_open                     -0.1977      0.364     -0.543      0.587      -0.912       0.516\n",
      "unsupportive_y               0.1899      0.258      0.737      0.461      -0.315       0.695\n",
      "gender_f:age                 0.0387      0.028      1.390      0.164      -0.016       0.093\n",
      "--------------------------------------------------------------------------------------------\n",
      "comf_supervisors=3_no       coef    std err          z      P>|z|      [0.025      0.975]\n",
      "-----------------------------------------------------------------------------------------\n",
      "const                     2.6412      0.940      2.808      0.005       0.798       4.485\n",
      "gender_f                 -0.1832      1.148     -0.160      0.873      -2.434       2.067\n",
      "age                      -0.0036      0.019     -0.188      0.851      -0.042       0.034\n",
      "diagnosed_mh              1.2169      0.310      3.920      0.000       0.608       1.825\n",
      "share_friends            -0.3518      0.053     -6.648      0.000      -0.456      -0.248\n",
      "mh_comms_y                0.5916      0.352      1.681      0.093      -0.098       1.281\n",
      "mh_resources_y           -0.6035      0.334     -1.805      0.071      -1.259       0.052\n",
      "medical_leave_scale       0.4232      0.115      3.686      0.000       0.198       0.648\n",
      "mh_importance            -0.1877      0.063     -2.979      0.003      -0.311      -0.064\n",
      "tech_support             -0.2388      0.154     -1.551      0.121      -0.540       0.063\n",
      "discussed_employer       -1.9030      0.352     -5.408      0.000      -2.593      -1.213\n",
      "coworker_discuss         -0.5424      0.311     -1.745      0.081      -1.151       0.067\n",
      "coworker_discuss2        -0.1800      0.277     -0.649      0.516      -0.724       0.363\n",
      "mh_putoff_y               0.6107      0.394      1.549      0.121      -0.162       1.384\n",
      "mh_open                  -0.0507      0.498     -0.102      0.919      -1.027       0.926\n",
      "unsupportive_y            0.5907      0.306      1.928      0.054      -0.010       1.191\n",
      "gender_f:age              0.0219      0.032      0.674      0.500      -0.042       0.086\n",
      "=========================================================================================\n"
     ]
    }
   ],
   "source": [
    "X = df_logit.drop(columns = 'gender')\n",
    "X_const = sm.add_constant(X) #add constant\n",
    "\n",
    "#changing order so that 'yes' becomes reference category\n",
    "y = df2[DV_cat[0]].apply(lambda x: '1_yes' if x == 'yes' else ('2_maybe' if x == 'maybe' else '3_no'))\n",
    "model = sm.MNLogit(y, X_const)\n",
    "results = model.fit()\n",
    "print(results.summary())"
   ]
  },
  {
   "cell_type": "code",
   "execution_count": 74,
   "metadata": {},
   "outputs": [
    {
     "data": {
      "text/html": [
       "<div>\n",
       "<style scoped>\n",
       "    .dataframe tbody tr th:only-of-type {\n",
       "        vertical-align: middle;\n",
       "    }\n",
       "\n",
       "    .dataframe tbody tr th {\n",
       "        vertical-align: top;\n",
       "    }\n",
       "\n",
       "    .dataframe thead th {\n",
       "        text-align: right;\n",
       "    }\n",
       "</style>\n",
       "<table border=\"1\" class=\"dataframe\">\n",
       "  <thead>\n",
       "    <tr style=\"text-align: right;\">\n",
       "      <th></th>\n",
       "      <th>odds 'maybe'</th>\n",
       "      <th>95% CI 'maybe'</th>\n",
       "      <th>odds 'no'</th>\n",
       "      <th>95% CI 'no'</th>\n",
       "    </tr>\n",
       "  </thead>\n",
       "  <tbody>\n",
       "    <tr>\n",
       "      <th>const</th>\n",
       "      <td>9.18***</td>\n",
       "      <td>2.0 - 42.25</td>\n",
       "      <td>14.03***</td>\n",
       "      <td>2.22 - 88.63</td>\n",
       "    </tr>\n",
       "    <tr>\n",
       "      <th>gender_f</th>\n",
       "      <td>0.32</td>\n",
       "      <td>0.05 - 2.15</td>\n",
       "      <td>0.83</td>\n",
       "      <td>0.09 - 7.9</td>\n",
       "    </tr>\n",
       "    <tr>\n",
       "      <th>age</th>\n",
       "      <td>0.98</td>\n",
       "      <td>0.95 - 1.01</td>\n",
       "      <td>1.0</td>\n",
       "      <td>0.96 - 1.03</td>\n",
       "    </tr>\n",
       "    <tr>\n",
       "      <th>diagnosed_mh</th>\n",
       "      <td>1.58*</td>\n",
       "      <td>0.96 - 2.63</td>\n",
       "      <td>3.38***</td>\n",
       "      <td>1.84 - 6.2</td>\n",
       "    </tr>\n",
       "    <tr>\n",
       "      <th>share_friends</th>\n",
       "      <td>0.87***</td>\n",
       "      <td>0.79 - 0.95</td>\n",
       "      <td>0.7***</td>\n",
       "      <td>0.63 - 0.78</td>\n",
       "    </tr>\n",
       "    <tr>\n",
       "      <th>mh_comms_y</th>\n",
       "      <td>1.14</td>\n",
       "      <td>0.66 - 1.98</td>\n",
       "      <td>1.81*</td>\n",
       "      <td>0.91 - 3.6</td>\n",
       "    </tr>\n",
       "    <tr>\n",
       "      <th>mh_resources_y</th>\n",
       "      <td>0.93</td>\n",
       "      <td>0.56 - 1.54</td>\n",
       "      <td>0.55*</td>\n",
       "      <td>0.28 - 1.05</td>\n",
       "    </tr>\n",
       "    <tr>\n",
       "      <th>medical_leave_scale</th>\n",
       "      <td>1.18*</td>\n",
       "      <td>0.98 - 1.43</td>\n",
       "      <td>1.53***</td>\n",
       "      <td>1.22 - 1.91</td>\n",
       "    </tr>\n",
       "    <tr>\n",
       "      <th>mh_importance</th>\n",
       "      <td>0.92</td>\n",
       "      <td>0.83 - 1.02</td>\n",
       "      <td>0.83***</td>\n",
       "      <td>0.73 - 0.94</td>\n",
       "    </tr>\n",
       "    <tr>\n",
       "      <th>tech_support</th>\n",
       "      <td>0.9</td>\n",
       "      <td>0.7 - 1.15</td>\n",
       "      <td>0.79</td>\n",
       "      <td>0.58 - 1.06</td>\n",
       "    </tr>\n",
       "    <tr>\n",
       "      <th>discussed_employer</th>\n",
       "      <td>0.34***</td>\n",
       "      <td>0.21 - 0.56</td>\n",
       "      <td>0.15***</td>\n",
       "      <td>0.07 - 0.3</td>\n",
       "    </tr>\n",
       "    <tr>\n",
       "      <th>coworker_discuss</th>\n",
       "      <td>0.61*</td>\n",
       "      <td>0.37 - 1.0</td>\n",
       "      <td>0.58*</td>\n",
       "      <td>0.32 - 1.07</td>\n",
       "    </tr>\n",
       "    <tr>\n",
       "      <th>coworker_discuss2</th>\n",
       "      <td>1.07</td>\n",
       "      <td>0.69 - 1.66</td>\n",
       "      <td>0.84</td>\n",
       "      <td>0.49 - 1.44</td>\n",
       "    </tr>\n",
       "    <tr>\n",
       "      <th>mh_putoff_y</th>\n",
       "      <td>1.68</td>\n",
       "      <td>0.83 - 3.39</td>\n",
       "      <td>1.84</td>\n",
       "      <td>0.85 - 3.99</td>\n",
       "    </tr>\n",
       "    <tr>\n",
       "      <th>mh_open</th>\n",
       "      <td>0.82</td>\n",
       "      <td>0.4 - 1.68</td>\n",
       "      <td>0.95</td>\n",
       "      <td>0.36 - 2.52</td>\n",
       "    </tr>\n",
       "    <tr>\n",
       "      <th>unsupportive_y</th>\n",
       "      <td>1.21</td>\n",
       "      <td>0.73 - 2.0</td>\n",
       "      <td>1.81*</td>\n",
       "      <td>0.99 - 3.29</td>\n",
       "    </tr>\n",
       "    <tr>\n",
       "      <th>gender_f:age</th>\n",
       "      <td>1.04</td>\n",
       "      <td>0.98 - 1.1</td>\n",
       "      <td>1.02</td>\n",
       "      <td>0.96 - 1.09</td>\n",
       "    </tr>\n",
       "  </tbody>\n",
       "</table>\n",
       "</div>"
      ],
      "text/plain": [
       "                    odds 'maybe' 95% CI 'maybe' odds 'no'   95% CI 'no'\n",
       "const                    9.18***    2.0 - 42.25  14.03***  2.22 - 88.63\n",
       "gender_f                    0.32    0.05 - 2.15      0.83    0.09 - 7.9\n",
       "age                         0.98    0.95 - 1.01       1.0   0.96 - 1.03\n",
       "diagnosed_mh               1.58*    0.96 - 2.63   3.38***    1.84 - 6.2\n",
       "share_friends            0.87***    0.79 - 0.95    0.7***   0.63 - 0.78\n",
       "mh_comms_y                  1.14    0.66 - 1.98     1.81*    0.91 - 3.6\n",
       "mh_resources_y              0.93    0.56 - 1.54     0.55*   0.28 - 1.05\n",
       "medical_leave_scale        1.18*    0.98 - 1.43   1.53***   1.22 - 1.91\n",
       "mh_importance               0.92    0.83 - 1.02   0.83***   0.73 - 0.94\n",
       "tech_support                 0.9     0.7 - 1.15      0.79   0.58 - 1.06\n",
       "discussed_employer       0.34***    0.21 - 0.56   0.15***    0.07 - 0.3\n",
       "coworker_discuss           0.61*     0.37 - 1.0     0.58*   0.32 - 1.07\n",
       "coworker_discuss2           1.07    0.69 - 1.66      0.84   0.49 - 1.44\n",
       "mh_putoff_y                 1.68    0.83 - 3.39      1.84   0.85 - 3.99\n",
       "mh_open                     0.82     0.4 - 1.68      0.95   0.36 - 2.52\n",
       "unsupportive_y              1.21     0.73 - 2.0     1.81*   0.99 - 3.29\n",
       "gender_f:age                1.04     0.98 - 1.1      1.02   0.96 - 1.09"
      ]
     },
     "metadata": {},
     "output_type": "display_data"
    }
   ],
   "source": [
    "sup_results = pd.DataFrame()\n",
    "sup_results['odds maybe'] = np.exp(results.params[0]).round(2).astype(str)\n",
    "sup_results['significance maybe'] = results.pvalues[0].apply(lambda x: '***' if x<0.01 else ('**' if x<0.05 else ('*' if x<0.1 else '')))\n",
    "sup_results['odds no'] = np.exp(results.params[1]).round(2).astype(str)\n",
    "sup_results['significance no'] = results.pvalues[1].apply(lambda x: '***' if x<0.01 else ('**' if x<0.05 else ('*' if x<0.1 else '')))\n",
    "\n",
    "CI_maybe = pd.DataFrame(np.exp(results._results.conf_int())[0], columns =['0.025','0.975']).round(2).astype(str)\n",
    "CI_maybe = CI_maybe.set_index(sup_results.index)\n",
    "CI_no = pd.DataFrame(np.exp(results._results.conf_int())[1], columns =['0.025','0.975']).round(2).astype(str)\n",
    "CI_no = CI_no.set_index(sup_results.index)\n",
    "\n",
    "\n",
    "sup_results['odds \\'maybe\\''] = sup_results['odds maybe']+sup_results['significance maybe']\n",
    "sup_results['95% CI \\'maybe\\''] = CI_maybe['0.025'] + ' - ' + CI_maybe['0.975'] \n",
    "sup_results['odds \\'no\\''] = sup_results['odds no']+sup_results['significance no']\n",
    "sup_results['95% CI \\'no\\''] = CI_no['0.025'] + ' - ' + CI_no['0.975']\n",
    "\n",
    "display(sup_results.drop(columns = ['odds maybe','significance maybe','odds no','significance no']))"
   ]
  },
  {
   "cell_type": "code",
   "execution_count": 76,
   "metadata": {},
   "outputs": [
    {
     "name": "stdout",
     "output_type": "stream",
     "text": [
      "Optimization terminated successfully.\n",
      "         Current function value: 0.810656\n",
      "         Iterations 7\n",
      "                          MNLogit Regression Results                          \n",
      "==============================================================================\n",
      "Dep. Variable:         comf_coworkers   No. Observations:                  619\n",
      "Model:                        MNLogit   Df Residuals:                      585\n",
      "Method:                           MLE   Df Model:                           32\n",
      "Date:                Sun, 13 Jan 2019   Pseudo R-squ.:                  0.2386\n",
      "Time:                        10:11:15   Log-Likelihood:                -501.80\n",
      "converged:                       True   LL-Null:                       -659.03\n",
      "                                        LLR p-value:                 3.893e-48\n",
      "=======================================================================================\n",
      "comf_coworkers=2_maybe       coef    std err          z      P>|z|      [0.025      0.975]\n",
      "------------------------------------------------------------------------------------------\n",
      "const                      0.7369      0.818      0.901      0.368      -0.866       2.340\n",
      "gender_f                   0.9434      1.079      0.875      0.382      -1.171       3.057\n",
      "age                        0.0452      0.017      2.702      0.007       0.012       0.078\n",
      "diagnosed_mh               0.6827      0.270      2.530      0.011       0.154       1.212\n",
      "share_friends             -0.1792      0.051     -3.529      0.000      -0.279      -0.080\n",
      "mh_comms_y                -0.8029      0.295     -2.719      0.007      -1.382      -0.224\n",
      "mh_resources_y             0.5807      0.278      2.088      0.037       0.036       1.126\n",
      "medical_leave_scale        0.2431      0.103      2.370      0.018       0.042       0.444\n",
      "mh_importance             -0.0266      0.054     -0.490      0.624      -0.133       0.080\n",
      "tech_support              -0.0013      0.134     -0.010      0.992      -0.264       0.262\n",
      "discussed_employer        -0.3731      0.247     -1.513      0.130      -0.856       0.110\n",
      "coworker_discuss          -1.0992      0.267     -4.122      0.000      -1.622      -0.577\n",
      "coworker_discuss2         -0.7010      0.236     -2.966      0.003      -1.164      -0.238\n",
      "mh_putoff_y                0.7749      0.400      1.938      0.053      -0.009       1.559\n",
      "mh_open                   -1.3845      0.376     -3.683      0.000      -2.121      -0.648\n",
      "unsupportive_y             0.0873      0.270      0.324      0.746      -0.441       0.616\n",
      "gender_f:age              -0.0202      0.031     -0.651      0.515      -0.081       0.041\n",
      "------------------------------------------------------------------------------------------\n",
      "comf_coworkers=3_no       coef    std err          z      P>|z|      [0.025      0.975]\n",
      "---------------------------------------------------------------------------------------\n",
      "const                   2.5787      1.039      2.482      0.013       0.543       4.615\n",
      "gender_f               -0.1328      1.337     -0.099      0.921      -2.753       2.488\n",
      "age                     0.0229      0.022      1.042      0.297      -0.020       0.066\n",
      "diagnosed_mh            1.1317      0.351      3.221      0.001       0.443       1.820\n",
      "share_friends          -0.3590      0.060     -5.953      0.000      -0.477      -0.241\n",
      "mh_comms_y              0.1541      0.391      0.395      0.693      -0.612       0.920\n",
      "mh_resources_y         -0.3971      0.387     -1.027      0.305      -1.155       0.361\n",
      "medical_leave_scale     0.4226      0.129      3.279      0.001       0.170       0.675\n",
      "mh_importance           0.0007      0.070      0.010      0.992      -0.136       0.138\n",
      "tech_support           -0.4451      0.175     -2.538      0.011      -0.789      -0.101\n",
      "discussed_employer     -0.6419      0.370     -1.736      0.083      -1.367       0.083\n",
      "coworker_discuss       -2.6770      0.380     -7.041      0.000      -3.422      -1.932\n",
      "coworker_discuss2      -0.6023      0.307     -1.959      0.050      -1.205       0.000\n",
      "mh_putoff_y             1.5076      0.464      3.249      0.001       0.598       2.417\n",
      "mh_open                -1.1504      0.607     -1.896      0.058      -2.340       0.039\n",
      "unsupportive_y          0.3778      0.345      1.095      0.273      -0.298       1.054\n",
      "gender_f:age            0.0116      0.038      0.304      0.761      -0.063       0.086\n",
      "=======================================================================================\n"
     ]
    }
   ],
   "source": [
    "#changing order so that 'yes' becomes reference category\n",
    "y = df2[DV_cat[1]].apply(lambda x: '1_yes' if x == 'yes' else ('2_maybe' if x == 'maybe' else '3_no'))\n",
    "model = sm.MNLogit(y, X_const)\n",
    "results = model.fit()\n",
    "print(results.summary())"
   ]
  },
  {
   "cell_type": "code",
   "execution_count": 77,
   "metadata": {},
   "outputs": [
    {
     "data": {
      "text/html": [
       "<div>\n",
       "<style scoped>\n",
       "    .dataframe tbody tr th:only-of-type {\n",
       "        vertical-align: middle;\n",
       "    }\n",
       "\n",
       "    .dataframe tbody tr th {\n",
       "        vertical-align: top;\n",
       "    }\n",
       "\n",
       "    .dataframe thead th {\n",
       "        text-align: right;\n",
       "    }\n",
       "</style>\n",
       "<table border=\"1\" class=\"dataframe\">\n",
       "  <thead>\n",
       "    <tr style=\"text-align: right;\">\n",
       "      <th></th>\n",
       "      <th>odds 'maybe'</th>\n",
       "      <th>95% CI 'maybe'</th>\n",
       "      <th>odds 'no'</th>\n",
       "      <th>95% CI 'no'</th>\n",
       "    </tr>\n",
       "  </thead>\n",
       "  <tbody>\n",
       "    <tr>\n",
       "      <th>const</th>\n",
       "      <td>2.09</td>\n",
       "      <td>0.42 - 10.38</td>\n",
       "      <td>13.18**</td>\n",
       "      <td>1.72 - 100.96</td>\n",
       "    </tr>\n",
       "    <tr>\n",
       "      <th>gender_f</th>\n",
       "      <td>2.57</td>\n",
       "      <td>0.31 - 21.27</td>\n",
       "      <td>0.88</td>\n",
       "      <td>0.06 - 12.03</td>\n",
       "    </tr>\n",
       "    <tr>\n",
       "      <th>age</th>\n",
       "      <td>1.05***</td>\n",
       "      <td>1.01 - 1.08</td>\n",
       "      <td>1.02</td>\n",
       "      <td>0.98 - 1.07</td>\n",
       "    </tr>\n",
       "    <tr>\n",
       "      <th>diagnosed_mh</th>\n",
       "      <td>1.98**</td>\n",
       "      <td>1.17 - 3.36</td>\n",
       "      <td>3.1***</td>\n",
       "      <td>1.56 - 6.17</td>\n",
       "    </tr>\n",
       "    <tr>\n",
       "      <th>share_friends</th>\n",
       "      <td>0.84***</td>\n",
       "      <td>0.76 - 0.92</td>\n",
       "      <td>0.7***</td>\n",
       "      <td>0.62 - 0.79</td>\n",
       "    </tr>\n",
       "    <tr>\n",
       "      <th>mh_comms_y</th>\n",
       "      <td>0.45***</td>\n",
       "      <td>0.25 - 0.8</td>\n",
       "      <td>1.17</td>\n",
       "      <td>0.54 - 2.51</td>\n",
       "    </tr>\n",
       "    <tr>\n",
       "      <th>mh_resources_y</th>\n",
       "      <td>1.79**</td>\n",
       "      <td>1.04 - 3.08</td>\n",
       "      <td>0.67</td>\n",
       "      <td>0.32 - 1.43</td>\n",
       "    </tr>\n",
       "    <tr>\n",
       "      <th>medical_leave_scale</th>\n",
       "      <td>1.28**</td>\n",
       "      <td>1.04 - 1.56</td>\n",
       "      <td>1.53***</td>\n",
       "      <td>1.19 - 1.96</td>\n",
       "    </tr>\n",
       "    <tr>\n",
       "      <th>mh_importance</th>\n",
       "      <td>0.97</td>\n",
       "      <td>0.88 - 1.08</td>\n",
       "      <td>1.0</td>\n",
       "      <td>0.87 - 1.15</td>\n",
       "    </tr>\n",
       "    <tr>\n",
       "      <th>tech_support</th>\n",
       "      <td>1.0</td>\n",
       "      <td>0.77 - 1.3</td>\n",
       "      <td>0.64**</td>\n",
       "      <td>0.45 - 0.9</td>\n",
       "    </tr>\n",
       "    <tr>\n",
       "      <th>discussed_employer</th>\n",
       "      <td>0.69</td>\n",
       "      <td>0.42 - 1.12</td>\n",
       "      <td>0.53*</td>\n",
       "      <td>0.25 - 1.09</td>\n",
       "    </tr>\n",
       "    <tr>\n",
       "      <th>coworker_discuss</th>\n",
       "      <td>0.33***</td>\n",
       "      <td>0.2 - 0.56</td>\n",
       "      <td>0.07***</td>\n",
       "      <td>0.03 - 0.14</td>\n",
       "    </tr>\n",
       "    <tr>\n",
       "      <th>coworker_discuss2</th>\n",
       "      <td>0.5***</td>\n",
       "      <td>0.31 - 0.79</td>\n",
       "      <td>0.55*</td>\n",
       "      <td>0.3 - 1.0</td>\n",
       "    </tr>\n",
       "    <tr>\n",
       "      <th>mh_putoff_y</th>\n",
       "      <td>2.17*</td>\n",
       "      <td>0.99 - 4.75</td>\n",
       "      <td>4.52***</td>\n",
       "      <td>1.82 - 11.21</td>\n",
       "    </tr>\n",
       "    <tr>\n",
       "      <th>mh_open</th>\n",
       "      <td>0.25***</td>\n",
       "      <td>0.12 - 0.52</td>\n",
       "      <td>0.32*</td>\n",
       "      <td>0.1 - 1.04</td>\n",
       "    </tr>\n",
       "    <tr>\n",
       "      <th>unsupportive_y</th>\n",
       "      <td>1.09</td>\n",
       "      <td>0.64 - 1.85</td>\n",
       "      <td>1.46</td>\n",
       "      <td>0.74 - 2.87</td>\n",
       "    </tr>\n",
       "    <tr>\n",
       "      <th>gender_f:age</th>\n",
       "      <td>0.98</td>\n",
       "      <td>0.92 - 1.04</td>\n",
       "      <td>1.01</td>\n",
       "      <td>0.94 - 1.09</td>\n",
       "    </tr>\n",
       "  </tbody>\n",
       "</table>\n",
       "</div>"
      ],
      "text/plain": [
       "                    odds 'maybe' 95% CI 'maybe' odds 'no'    95% CI 'no'\n",
       "const                       2.09   0.42 - 10.38   13.18**  1.72 - 100.96\n",
       "gender_f                    2.57   0.31 - 21.27      0.88   0.06 - 12.03\n",
       "age                      1.05***    1.01 - 1.08      1.02    0.98 - 1.07\n",
       "diagnosed_mh              1.98**    1.17 - 3.36    3.1***    1.56 - 6.17\n",
       "share_friends            0.84***    0.76 - 0.92    0.7***    0.62 - 0.79\n",
       "mh_comms_y               0.45***     0.25 - 0.8      1.17    0.54 - 2.51\n",
       "mh_resources_y            1.79**    1.04 - 3.08      0.67    0.32 - 1.43\n",
       "medical_leave_scale       1.28**    1.04 - 1.56   1.53***    1.19 - 1.96\n",
       "mh_importance               0.97    0.88 - 1.08       1.0    0.87 - 1.15\n",
       "tech_support                 1.0     0.77 - 1.3    0.64**     0.45 - 0.9\n",
       "discussed_employer          0.69    0.42 - 1.12     0.53*    0.25 - 1.09\n",
       "coworker_discuss         0.33***     0.2 - 0.56   0.07***    0.03 - 0.14\n",
       "coworker_discuss2         0.5***    0.31 - 0.79     0.55*      0.3 - 1.0\n",
       "mh_putoff_y                2.17*    0.99 - 4.75   4.52***   1.82 - 11.21\n",
       "mh_open                  0.25***    0.12 - 0.52     0.32*     0.1 - 1.04\n",
       "unsupportive_y              1.09    0.64 - 1.85      1.46    0.74 - 2.87\n",
       "gender_f:age                0.98    0.92 - 1.04      1.01    0.94 - 1.09"
      ]
     },
     "metadata": {},
     "output_type": "display_data"
    }
   ],
   "source": [
    "co_results = pd.DataFrame()\n",
    "co_results['odds maybe'] = np.exp(results.params[0]).round(2).astype(str)\n",
    "co_results['significance maybe'] = results.pvalues[0].apply(lambda x: '***' if x<0.01 else ('**' if x<0.05 else ('*' if x<0.1 else '')))\n",
    "co_results['odds no'] = np.exp(results.params[1]).round(2).astype(str)\n",
    "co_results['significance no'] = results.pvalues[1].apply(lambda x: '***' if x<0.01 else ('**' if x<0.05 else ('*' if x<0.1 else '')))\n",
    "\n",
    "CI_maybe = pd.DataFrame(np.exp(results._results.conf_int())[0], columns =['0.025','0.975']).round(2).astype(str)\n",
    "CI_maybe = CI_maybe.set_index(co_results.index)\n",
    "CI_no = pd.DataFrame(np.exp(results._results.conf_int())[1], columns =['0.025','0.975']).round(2).astype(str)\n",
    "CI_no = CI_no.set_index(co_results.index)\n",
    "\n",
    "# co_results['0.025no'] = CI_no['0.025']\n",
    "# co_results['0.975no'] = CI_no['0.975']\n",
    "co_results['odds \\'maybe\\''] = co_results['odds maybe']+co_results['significance maybe']\n",
    "co_results['95% CI \\'maybe\\''] = CI_maybe['0.025'] + ' - ' + CI_maybe['0.975'] \n",
    "co_results['odds \\'no\\''] = co_results['odds no']+co_results['significance no']\n",
    "co_results['95% CI \\'no\\''] = CI_no['0.025'] + ' - ' + CI_no['0.975']\n",
    "\n",
    "display(co_results.drop(columns = ['odds maybe','significance maybe','odds no','significance no']))"
   ]
  },
  {
   "cell_type": "code",
   "execution_count": 78,
   "metadata": {},
   "outputs": [
    {
     "data": {
      "text/html": [
       "<div>\n",
       "<style scoped>\n",
       "    .dataframe tbody tr th:only-of-type {\n",
       "        vertical-align: middle;\n",
       "    }\n",
       "\n",
       "    .dataframe tbody tr th {\n",
       "        vertical-align: top;\n",
       "    }\n",
       "\n",
       "    .dataframe thead th {\n",
       "        text-align: right;\n",
       "    }\n",
       "</style>\n",
       "<table border=\"1\" class=\"dataframe\">\n",
       "  <thead>\n",
       "    <tr style=\"text-align: right;\">\n",
       "      <th></th>\n",
       "      <th>odds maybe</th>\n",
       "      <th>significance maybe</th>\n",
       "      <th>odds no</th>\n",
       "      <th>significance no</th>\n",
       "      <th>odds 'maybe'</th>\n",
       "      <th>95% CI 'maybe'</th>\n",
       "      <th>odds 'no'</th>\n",
       "      <th>95% CI 'no'</th>\n",
       "    </tr>\n",
       "  </thead>\n",
       "  <tbody>\n",
       "    <tr>\n",
       "      <th>const</th>\n",
       "      <td>2.09</td>\n",
       "      <td></td>\n",
       "      <td>13.18</td>\n",
       "      <td>**</td>\n",
       "      <td>2.09</td>\n",
       "      <td>0.42 - 10.38</td>\n",
       "      <td>13.18**</td>\n",
       "      <td>1.72 - 100.96</td>\n",
       "    </tr>\n",
       "    <tr>\n",
       "      <th>gender_f</th>\n",
       "      <td>2.57</td>\n",
       "      <td></td>\n",
       "      <td>0.88</td>\n",
       "      <td></td>\n",
       "      <td>2.57</td>\n",
       "      <td>0.31 - 21.27</td>\n",
       "      <td>0.88</td>\n",
       "      <td>0.06 - 12.03</td>\n",
       "    </tr>\n",
       "    <tr>\n",
       "      <th>age</th>\n",
       "      <td>1.05</td>\n",
       "      <td>***</td>\n",
       "      <td>1.02</td>\n",
       "      <td></td>\n",
       "      <td>1.05***</td>\n",
       "      <td>1.01 - 1.08</td>\n",
       "      <td>1.02</td>\n",
       "      <td>0.98 - 1.07</td>\n",
       "    </tr>\n",
       "    <tr>\n",
       "      <th>diagnosed_mh</th>\n",
       "      <td>1.98</td>\n",
       "      <td>**</td>\n",
       "      <td>3.1</td>\n",
       "      <td>***</td>\n",
       "      <td>1.98**</td>\n",
       "      <td>1.17 - 3.36</td>\n",
       "      <td>3.1***</td>\n",
       "      <td>1.56 - 6.17</td>\n",
       "    </tr>\n",
       "    <tr>\n",
       "      <th>share_friends</th>\n",
       "      <td>0.84</td>\n",
       "      <td>***</td>\n",
       "      <td>0.7</td>\n",
       "      <td>***</td>\n",
       "      <td>0.84***</td>\n",
       "      <td>0.76 - 0.92</td>\n",
       "      <td>0.7***</td>\n",
       "      <td>0.62 - 0.79</td>\n",
       "    </tr>\n",
       "    <tr>\n",
       "      <th>mh_comms_y</th>\n",
       "      <td>0.45</td>\n",
       "      <td>***</td>\n",
       "      <td>1.17</td>\n",
       "      <td></td>\n",
       "      <td>0.45***</td>\n",
       "      <td>0.25 - 0.8</td>\n",
       "      <td>1.17</td>\n",
       "      <td>0.54 - 2.51</td>\n",
       "    </tr>\n",
       "    <tr>\n",
       "      <th>mh_resources_y</th>\n",
       "      <td>1.79</td>\n",
       "      <td>**</td>\n",
       "      <td>0.67</td>\n",
       "      <td></td>\n",
       "      <td>1.79**</td>\n",
       "      <td>1.04 - 3.08</td>\n",
       "      <td>0.67</td>\n",
       "      <td>0.32 - 1.43</td>\n",
       "    </tr>\n",
       "    <tr>\n",
       "      <th>medical_leave_scale</th>\n",
       "      <td>1.28</td>\n",
       "      <td>**</td>\n",
       "      <td>1.53</td>\n",
       "      <td>***</td>\n",
       "      <td>1.28**</td>\n",
       "      <td>1.04 - 1.56</td>\n",
       "      <td>1.53***</td>\n",
       "      <td>1.19 - 1.96</td>\n",
       "    </tr>\n",
       "    <tr>\n",
       "      <th>mh_importance</th>\n",
       "      <td>0.97</td>\n",
       "      <td></td>\n",
       "      <td>1.0</td>\n",
       "      <td></td>\n",
       "      <td>0.97</td>\n",
       "      <td>0.88 - 1.08</td>\n",
       "      <td>1.0</td>\n",
       "      <td>0.87 - 1.15</td>\n",
       "    </tr>\n",
       "    <tr>\n",
       "      <th>tech_support</th>\n",
       "      <td>1.0</td>\n",
       "      <td></td>\n",
       "      <td>0.64</td>\n",
       "      <td>**</td>\n",
       "      <td>1.0</td>\n",
       "      <td>0.77 - 1.3</td>\n",
       "      <td>0.64**</td>\n",
       "      <td>0.45 - 0.9</td>\n",
       "    </tr>\n",
       "    <tr>\n",
       "      <th>discussed_employer</th>\n",
       "      <td>0.69</td>\n",
       "      <td></td>\n",
       "      <td>0.53</td>\n",
       "      <td>*</td>\n",
       "      <td>0.69</td>\n",
       "      <td>0.42 - 1.12</td>\n",
       "      <td>0.53*</td>\n",
       "      <td>0.25 - 1.09</td>\n",
       "    </tr>\n",
       "    <tr>\n",
       "      <th>coworker_discuss</th>\n",
       "      <td>0.33</td>\n",
       "      <td>***</td>\n",
       "      <td>0.07</td>\n",
       "      <td>***</td>\n",
       "      <td>0.33***</td>\n",
       "      <td>0.2 - 0.56</td>\n",
       "      <td>0.07***</td>\n",
       "      <td>0.03 - 0.14</td>\n",
       "    </tr>\n",
       "    <tr>\n",
       "      <th>coworker_discuss2</th>\n",
       "      <td>0.5</td>\n",
       "      <td>***</td>\n",
       "      <td>0.55</td>\n",
       "      <td>*</td>\n",
       "      <td>0.5***</td>\n",
       "      <td>0.31 - 0.79</td>\n",
       "      <td>0.55*</td>\n",
       "      <td>0.3 - 1.0</td>\n",
       "    </tr>\n",
       "    <tr>\n",
       "      <th>mh_putoff_y</th>\n",
       "      <td>2.17</td>\n",
       "      <td>*</td>\n",
       "      <td>4.52</td>\n",
       "      <td>***</td>\n",
       "      <td>2.17*</td>\n",
       "      <td>0.99 - 4.75</td>\n",
       "      <td>4.52***</td>\n",
       "      <td>1.82 - 11.21</td>\n",
       "    </tr>\n",
       "    <tr>\n",
       "      <th>mh_open</th>\n",
       "      <td>0.25</td>\n",
       "      <td>***</td>\n",
       "      <td>0.32</td>\n",
       "      <td>*</td>\n",
       "      <td>0.25***</td>\n",
       "      <td>0.12 - 0.52</td>\n",
       "      <td>0.32*</td>\n",
       "      <td>0.1 - 1.04</td>\n",
       "    </tr>\n",
       "    <tr>\n",
       "      <th>unsupportive_y</th>\n",
       "      <td>1.09</td>\n",
       "      <td></td>\n",
       "      <td>1.46</td>\n",
       "      <td></td>\n",
       "      <td>1.09</td>\n",
       "      <td>0.64 - 1.85</td>\n",
       "      <td>1.46</td>\n",
       "      <td>0.74 - 2.87</td>\n",
       "    </tr>\n",
       "    <tr>\n",
       "      <th>gender_f:age</th>\n",
       "      <td>0.98</td>\n",
       "      <td></td>\n",
       "      <td>1.01</td>\n",
       "      <td></td>\n",
       "      <td>0.98</td>\n",
       "      <td>0.92 - 1.04</td>\n",
       "      <td>1.01</td>\n",
       "      <td>0.94 - 1.09</td>\n",
       "    </tr>\n",
       "  </tbody>\n",
       "</table>\n",
       "</div>"
      ],
      "text/plain": [
       "                    odds maybe significance maybe odds no significance no  \\\n",
       "const                     2.09                      13.18              **   \n",
       "gender_f                  2.57                       0.88                   \n",
       "age                       1.05                ***    1.02                   \n",
       "diagnosed_mh              1.98                 **     3.1             ***   \n",
       "share_friends             0.84                ***     0.7             ***   \n",
       "mh_comms_y                0.45                ***    1.17                   \n",
       "mh_resources_y            1.79                 **    0.67                   \n",
       "medical_leave_scale       1.28                 **    1.53             ***   \n",
       "mh_importance             0.97                        1.0                   \n",
       "tech_support               1.0                       0.64              **   \n",
       "discussed_employer        0.69                       0.53               *   \n",
       "coworker_discuss          0.33                ***    0.07             ***   \n",
       "coworker_discuss2          0.5                ***    0.55               *   \n",
       "mh_putoff_y               2.17                  *    4.52             ***   \n",
       "mh_open                   0.25                ***    0.32               *   \n",
       "unsupportive_y            1.09                       1.46                   \n",
       "gender_f:age              0.98                       1.01                   \n",
       "\n",
       "                    odds 'maybe' 95% CI 'maybe' odds 'no'    95% CI 'no'  \n",
       "const                       2.09   0.42 - 10.38   13.18**  1.72 - 100.96  \n",
       "gender_f                    2.57   0.31 - 21.27      0.88   0.06 - 12.03  \n",
       "age                      1.05***    1.01 - 1.08      1.02    0.98 - 1.07  \n",
       "diagnosed_mh              1.98**    1.17 - 3.36    3.1***    1.56 - 6.17  \n",
       "share_friends            0.84***    0.76 - 0.92    0.7***    0.62 - 0.79  \n",
       "mh_comms_y               0.45***     0.25 - 0.8      1.17    0.54 - 2.51  \n",
       "mh_resources_y            1.79**    1.04 - 3.08      0.67    0.32 - 1.43  \n",
       "medical_leave_scale       1.28**    1.04 - 1.56   1.53***    1.19 - 1.96  \n",
       "mh_importance               0.97    0.88 - 1.08       1.0    0.87 - 1.15  \n",
       "tech_support                 1.0     0.77 - 1.3    0.64**     0.45 - 0.9  \n",
       "discussed_employer          0.69    0.42 - 1.12     0.53*    0.25 - 1.09  \n",
       "coworker_discuss         0.33***     0.2 - 0.56   0.07***    0.03 - 0.14  \n",
       "coworker_discuss2         0.5***    0.31 - 0.79     0.55*      0.3 - 1.0  \n",
       "mh_putoff_y                2.17*    0.99 - 4.75   4.52***   1.82 - 11.21  \n",
       "mh_open                  0.25***    0.12 - 0.52     0.32*     0.1 - 1.04  \n",
       "unsupportive_y              1.09    0.64 - 1.85      1.46    0.74 - 2.87  \n",
       "gender_f:age                0.98    0.92 - 1.04      1.01    0.94 - 1.09  "
      ]
     },
     "execution_count": 78,
     "metadata": {},
     "output_type": "execute_result"
    }
   ],
   "source": [
    "co_results"
   ]
  },
  {
   "cell_type": "code",
   "execution_count": 1721,
   "metadata": {},
   "outputs": [
    {
     "name": "stdout",
     "output_type": "stream",
     "text": [
      "\\begin{center}\n",
      "\\begin{tabular}{lclc}\n",
      "\\toprule\n",
      "\\textbf{Dep. Variable:}           &  comf_coworkers  & \\textbf{  No. Observations:  } &      619    \\\\\n",
      "\\textbf{Model:}                   &     MNLogit      & \\textbf{  Df Residuals:      } &      585    \\\\\n",
      "\\textbf{Method:}                  &       MLE        & \\textbf{  Df Model:          } &       32    \\\\\n",
      "\\textbf{Date:}                    & Wed, 02 Jan 2019 & \\textbf{  Pseudo R-squ.:     } &   0.2386    \\\\\n",
      "\\textbf{Time:}                    &     20:55:20     & \\textbf{  Log-Likelihood:    } &   -501.80   \\\\\n",
      "\\textbf{converged:}               &       True       & \\textbf{  LL-Null:           } &   -659.03   \\\\\n",
      "\\bottomrule\n",
      "\\end{tabular}\n",
      "\\begin{tabular}{ccccccc}\n",
      "\\textbf{comf\\_coworkers=2\\_maybe} & \\textbf{coef} & \\textbf{std err} & \\textbf{z} & \\textbf{P$>$$|$z$|$} & \\textbf{[0.025} & \\textbf{0.975]}  \\\\\n",
      "\\midrule\n",
      "\\bottomrule\n",
      "\\end{tabular}\n",
      "\\begin{tabular}{lcccccc}\n",
      "\\textbf{const}                    &       0.7369  &        0.818     &     0.901  &         0.368        &       -0.866    &        2.340     \\\\\n",
      "\\textbf{gender\\_f}                &       0.9434  &        1.079     &     0.875  &         0.382        &       -1.171    &        3.057     \\\\\n",
      "\\textbf{age}                      &       0.0452  &        0.017     &     2.702  &         0.007        &        0.012    &        0.078     \\\\\n",
      "\\textbf{diagnosed\\_mh}            &       0.6827  &        0.270     &     2.530  &         0.011        &        0.154    &        1.212     \\\\\n",
      "\\textbf{share\\_friends}           &      -0.1792  &        0.051     &    -3.529  &         0.000        &       -0.279    &       -0.080     \\\\\n",
      "\\textbf{mh\\_comms\\_y}             &      -0.8029  &        0.295     &    -2.719  &         0.007        &       -1.382    &       -0.224     \\\\\n",
      "\\textbf{mh\\_resources\\_y}         &       0.5807  &        0.278     &     2.088  &         0.037        &        0.036    &        1.126     \\\\\n",
      "\\textbf{medical\\_leave\\_scale}    &       0.2431  &        0.103     &     2.370  &         0.018        &        0.042    &        0.444     \\\\\n",
      "\\textbf{mh\\_importance}           &      -0.0266  &        0.054     &    -0.490  &         0.624        &       -0.133    &        0.080     \\\\\n",
      "\\textbf{tech\\_support}            &      -0.0013  &        0.134     &    -0.010  &         0.992        &       -0.264    &        0.262     \\\\\n",
      "\\textbf{discussed\\_employer}      &      -0.3731  &        0.247     &    -1.513  &         0.130        &       -0.856    &        0.110     \\\\\n",
      "\\textbf{coworker\\_discuss}        &      -1.0992  &        0.267     &    -4.122  &         0.000        &       -1.622    &       -0.577     \\\\\n",
      "\\textbf{coworker\\_discuss2}       &      -0.7010  &        0.236     &    -2.966  &         0.003        &       -1.164    &       -0.238     \\\\\n",
      "\\textbf{mh\\_putoff\\_y}            &       0.7749  &        0.400     &     1.938  &         0.053        &       -0.009    &        1.559     \\\\\n",
      "\\textbf{mh\\_open}                 &      -1.3845  &        0.376     &    -3.683  &         0.000        &       -2.121    &       -0.648     \\\\\n",
      "\\textbf{unsupportive\\_y}          &       0.0873  &        0.270     &     0.324  &         0.746        &       -0.441    &        0.616     \\\\\n",
      "\\textbf{gender\\_f:age}            &      -0.0202  &        0.031     &    -0.651  &         0.515        &       -0.081    &        0.041     \\\\\n",
      "\\bottomrule\n",
      "\\end{tabular}\n",
      "\\begin{tabular}{ccccccc}\n",
      "\\textbf{comf\\_coworkers=3\\_no} & \\textbf{coef} & \\textbf{std err} & \\textbf{z} & \\textbf{P$>$$|$z$|$} & \\textbf{[0.025} & \\textbf{0.975]}  \\\\\n",
      "\\midrule\n",
      "\\bottomrule\n",
      "\\end{tabular}\n",
      "\\begin{tabular}{lcccccc}\n",
      "\\textbf{const}                 &       2.5787  &        1.039     &     2.482  &         0.013        &        0.543    &        4.615     \\\\\n",
      "\\textbf{gender\\_f}             &      -0.1328  &        1.337     &    -0.099  &         0.921        &       -2.753    &        2.488     \\\\\n",
      "\\textbf{age}                   &       0.0229  &        0.022     &     1.042  &         0.297        &       -0.020    &        0.066     \\\\\n",
      "\\textbf{diagnosed\\_mh}         &       1.1317  &        0.351     &     3.221  &         0.001        &        0.443    &        1.820     \\\\\n",
      "\\textbf{share\\_friends}        &      -0.3590  &        0.060     &    -5.953  &         0.000        &       -0.477    &       -0.241     \\\\\n",
      "\\textbf{mh\\_comms\\_y}          &       0.1541  &        0.391     &     0.395  &         0.693        &       -0.612    &        0.920     \\\\\n",
      "\\textbf{mh\\_resources\\_y}      &      -0.3971  &        0.387     &    -1.027  &         0.305        &       -1.155    &        0.361     \\\\\n",
      "\\textbf{medical\\_leave\\_scale} &       0.4226  &        0.129     &     3.279  &         0.001        &        0.170    &        0.675     \\\\\n",
      "\\textbf{mh\\_importance}        &       0.0007  &        0.070     &     0.010  &         0.992        &       -0.136    &        0.138     \\\\\n",
      "\\textbf{tech\\_support}         &      -0.4451  &        0.175     &    -2.538  &         0.011        &       -0.789    &       -0.101     \\\\\n",
      "\\textbf{discussed\\_employer}   &      -0.6419  &        0.370     &    -1.736  &         0.083        &       -1.367    &        0.083     \\\\\n",
      "\\textbf{coworker\\_discuss}     &      -2.6770  &        0.380     &    -7.041  &         0.000        &       -3.422    &       -1.932     \\\\\n",
      "\\textbf{coworker\\_discuss2}    &      -0.6023  &        0.307     &    -1.959  &         0.050        &       -1.205    &        0.000     \\\\\n",
      "\\textbf{mh\\_putoff\\_y}         &       1.5076  &        0.464     &     3.249  &         0.001        &        0.598    &        2.417     \\\\\n",
      "\\textbf{mh\\_open}              &      -1.1504  &        0.607     &    -1.896  &         0.058        &       -2.340    &        0.039     \\\\\n",
      "\\textbf{unsupportive\\_y}       &       0.3778  &        0.345     &     1.095  &         0.273        &       -0.298    &        1.054     \\\\\n",
      "\\textbf{gender\\_f:age}         &       0.0116  &        0.038     &     0.304  &         0.761        &       -0.063    &        0.086     \\\\\n",
      "\\bottomrule\n",
      "\\end{tabular}\n",
      "%\\caption{MNLogit Regression Results}\n",
      "\\end{center}\n"
     ]
    }
   ],
   "source": [
    "latex_model = results.summary().as_latex()\n",
    "print(latex_model)"
   ]
  }
 ],
 "metadata": {
  "kernelspec": {
   "display_name": "Python 3",
   "language": "python",
   "name": "python3"
  },
  "language_info": {
   "codemirror_mode": {
    "name": "ipython",
    "version": 3
   },
   "file_extension": ".py",
   "mimetype": "text/x-python",
   "name": "python",
   "nbconvert_exporter": "python",
   "pygments_lexer": "ipython3",
   "version": "3.7.0"
  }
 },
 "nbformat": 4,
 "nbformat_minor": 2
}
